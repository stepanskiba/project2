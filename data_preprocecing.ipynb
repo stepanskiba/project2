{
 "cells": [
  {
   "cell_type": "code",
   "execution_count": 255,
   "outputs": [],
   "source": [
    "import pandas as pd\n",
    "import numpy as np"
   ],
   "metadata": {
    "collapsed": false,
    "pycharm": {
     "name": "#%%\n"
    }
   }
  },
  {
   "cell_type": "code",
   "execution_count": 256,
   "outputs": [],
   "source": [
    "import seaborn as sns\n",
    "import matplotlib.pyplot as plt\n",
    "%matplotlib inline"
   ],
   "metadata": {
    "collapsed": false,
    "pycharm": {
     "name": "#%%\n"
    }
   }
  },
  {
   "cell_type": "code",
   "execution_count": 257,
   "outputs": [],
   "source": [
    "events_data = pd.read_csv('event_data_train.csv')\n",
    "submissions_data = pd.read_csv('submissions_data_train.csv')"
   ],
   "metadata": {
    "collapsed": false,
    "pycharm": {
     "name": "#%%\n"
    }
   }
  },
  {
   "cell_type": "code",
   "execution_count": 258,
   "outputs": [
    {
     "data": {
      "text/plain": "1526772811"
     },
     "execution_count": 258,
     "metadata": {},
     "output_type": "execute_result"
    }
   ],
   "source": [
    "now = events_data.timestamp.max()\n",
    "now"
   ],
   "metadata": {
    "collapsed": false,
    "pycharm": {
     "name": "#%%\n"
    }
   }
  },
  {
   "cell_type": "code",
   "execution_count": 259,
   "outputs": [],
   "source": [
    "events_data['date'] = pd.to_datetime(events_data.timestamp, unit='s')\n",
    "events_data['day'] = events_data.date.dt.date\n",
    "submissions_data['date'] = pd.to_datetime(submissions_data.timestamp, unit='s')\n",
    "submissions_data['day'] = submissions_data.date.dt.date"
   ],
   "metadata": {
    "collapsed": false,
    "pycharm": {
     "name": "#%%\n"
    }
   }
  },
  {
   "cell_type": "code",
   "execution_count": 260,
   "outputs": [
    {
     "data": {
      "text/plain": "   step_id   timestamp      action  user_id                date         day\n0    32815  1434340848      viewed    17632 2015-06-15 04:00:48  2015-06-15\n1    32815  1434340848      passed    17632 2015-06-15 04:00:48  2015-06-15\n2    32815  1434340848  discovered    17632 2015-06-15 04:00:48  2015-06-15\n3    32811  1434340895  discovered    17632 2015-06-15 04:01:35  2015-06-15\n4    32811  1434340895      viewed    17632 2015-06-15 04:01:35  2015-06-15",
      "text/html": "<div>\n<style scoped>\n    .dataframe tbody tr th:only-of-type {\n        vertical-align: middle;\n    }\n\n    .dataframe tbody tr th {\n        vertical-align: top;\n    }\n\n    .dataframe thead th {\n        text-align: right;\n    }\n</style>\n<table border=\"1\" class=\"dataframe\">\n  <thead>\n    <tr style=\"text-align: right;\">\n      <th></th>\n      <th>step_id</th>\n      <th>timestamp</th>\n      <th>action</th>\n      <th>user_id</th>\n      <th>date</th>\n      <th>day</th>\n    </tr>\n  </thead>\n  <tbody>\n    <tr>\n      <th>0</th>\n      <td>32815</td>\n      <td>1434340848</td>\n      <td>viewed</td>\n      <td>17632</td>\n      <td>2015-06-15 04:00:48</td>\n      <td>2015-06-15</td>\n    </tr>\n    <tr>\n      <th>1</th>\n      <td>32815</td>\n      <td>1434340848</td>\n      <td>passed</td>\n      <td>17632</td>\n      <td>2015-06-15 04:00:48</td>\n      <td>2015-06-15</td>\n    </tr>\n    <tr>\n      <th>2</th>\n      <td>32815</td>\n      <td>1434340848</td>\n      <td>discovered</td>\n      <td>17632</td>\n      <td>2015-06-15 04:00:48</td>\n      <td>2015-06-15</td>\n    </tr>\n    <tr>\n      <th>3</th>\n      <td>32811</td>\n      <td>1434340895</td>\n      <td>discovered</td>\n      <td>17632</td>\n      <td>2015-06-15 04:01:35</td>\n      <td>2015-06-15</td>\n    </tr>\n    <tr>\n      <th>4</th>\n      <td>32811</td>\n      <td>1434340895</td>\n      <td>viewed</td>\n      <td>17632</td>\n      <td>2015-06-15 04:01:35</td>\n      <td>2015-06-15</td>\n    </tr>\n  </tbody>\n</table>\n</div>"
     },
     "execution_count": 260,
     "metadata": {},
     "output_type": "execute_result"
    }
   ],
   "source": [
    "events_data.head()"
   ],
   "metadata": {
    "collapsed": false,
    "pycharm": {
     "name": "#%%\n"
    }
   }
  },
  {
   "cell_type": "code",
   "execution_count": 261,
   "outputs": [
    {
     "data": {
      "text/plain": "   step_id   timestamp submission_status  user_id                date  \\\n0    31971  1434349275           correct    15853 2015-06-15 06:21:15   \n1    31972  1434348300           correct    15853 2015-06-15 06:05:00   \n2    31972  1478852149             wrong    15853 2016-11-11 08:15:49   \n3    31972  1478852164           correct    15853 2016-11-11 08:16:04   \n4    31976  1434348123             wrong    15853 2015-06-15 06:02:03   \n\n          day  \n0  2015-06-15  \n1  2015-06-15  \n2  2016-11-11  \n3  2016-11-11  \n4  2015-06-15  ",
      "text/html": "<div>\n<style scoped>\n    .dataframe tbody tr th:only-of-type {\n        vertical-align: middle;\n    }\n\n    .dataframe tbody tr th {\n        vertical-align: top;\n    }\n\n    .dataframe thead th {\n        text-align: right;\n    }\n</style>\n<table border=\"1\" class=\"dataframe\">\n  <thead>\n    <tr style=\"text-align: right;\">\n      <th></th>\n      <th>step_id</th>\n      <th>timestamp</th>\n      <th>submission_status</th>\n      <th>user_id</th>\n      <th>date</th>\n      <th>day</th>\n    </tr>\n  </thead>\n  <tbody>\n    <tr>\n      <th>0</th>\n      <td>31971</td>\n      <td>1434349275</td>\n      <td>correct</td>\n      <td>15853</td>\n      <td>2015-06-15 06:21:15</td>\n      <td>2015-06-15</td>\n    </tr>\n    <tr>\n      <th>1</th>\n      <td>31972</td>\n      <td>1434348300</td>\n      <td>correct</td>\n      <td>15853</td>\n      <td>2015-06-15 06:05:00</td>\n      <td>2015-06-15</td>\n    </tr>\n    <tr>\n      <th>2</th>\n      <td>31972</td>\n      <td>1478852149</td>\n      <td>wrong</td>\n      <td>15853</td>\n      <td>2016-11-11 08:15:49</td>\n      <td>2016-11-11</td>\n    </tr>\n    <tr>\n      <th>3</th>\n      <td>31972</td>\n      <td>1478852164</td>\n      <td>correct</td>\n      <td>15853</td>\n      <td>2016-11-11 08:16:04</td>\n      <td>2016-11-11</td>\n    </tr>\n    <tr>\n      <th>4</th>\n      <td>31976</td>\n      <td>1434348123</td>\n      <td>wrong</td>\n      <td>15853</td>\n      <td>2015-06-15 06:02:03</td>\n      <td>2015-06-15</td>\n    </tr>\n  </tbody>\n</table>\n</div>"
     },
     "execution_count": 261,
     "metadata": {},
     "output_type": "execute_result"
    }
   ],
   "source": [
    "submissions_data.head()"
   ],
   "metadata": {
    "collapsed": false,
    "pycharm": {
     "name": "#%%\n"
    }
   }
  },
  {
   "cell_type": "code",
   "execution_count": 262,
   "outputs": [
    {
     "data": {
      "text/plain": "<Figure size 648x432 with 1 Axes>",
      "image/png": "[encoded data removed]"
     },
     "metadata": {},
     "output_type": "display_data"
    }
   ],
   "source": [
    "sns.set(rc={'figure.figsize': (9, 6)})\n",
    "events_data.groupby('day').user_id.nunique().plot(title='Количество пользователей по дате', xlabel='дата', ylabel='количество').tick_params(axis='x', rotation=45)"
   ],
   "metadata": {
    "collapsed": false,
    "pycharm": {
     "name": "#%%\n"
    }
   }
  },
  {
   "cell_type": "code",
   "execution_count": 263,
   "outputs": [
    {
     "data": {
      "text/plain": "<Figure size 648x432 with 1 Axes>",
      "image/png": "[encoded data removed]"
     },
     "metadata": {},
     "output_type": "display_data"
    }
   ],
   "source": [
    "events_data['month'] = pd.to_datetime(events_data['timestamp'], unit='s').dt.to_period('M')\n",
    "events_data.groupby('month').user_id.nunique().plot(kind='bar', title='Гистограмма пользователей по месяцам', xlabel='месяц', ylabel='количество').tick_params(axis='x', rotation=45)"
   ],
   "metadata": {
    "collapsed": false,
    "pycharm": {
     "name": "#%%\n"
    }
   }
  },
  {
   "cell_type": "code",
   "execution_count": 264,
   "outputs": [
    {
     "data": {
      "text/plain": "   user_id  discovered  passed  started_attempt  viewed\n0        1           1       0                0       1\n1        2           9       9                2      10\n2        3          91      87               30     192\n3        5          11      11                4      12\n4        7           1       1                0       1",
      "text/html": "<div>\n<style scoped>\n    .dataframe tbody tr th:only-of-type {\n        vertical-align: middle;\n    }\n\n    .dataframe tbody tr th {\n        vertical-align: top;\n    }\n\n    .dataframe thead th {\n        text-align: right;\n    }\n</style>\n<table border=\"1\" class=\"dataframe\">\n  <thead>\n    <tr style=\"text-align: right;\">\n      <th></th>\n      <th>user_id</th>\n      <th>discovered</th>\n      <th>passed</th>\n      <th>started_attempt</th>\n      <th>viewed</th>\n    </tr>\n  </thead>\n  <tbody>\n    <tr>\n      <th>0</th>\n      <td>1</td>\n      <td>1</td>\n      <td>0</td>\n      <td>0</td>\n      <td>1</td>\n    </tr>\n    <tr>\n      <th>1</th>\n      <td>2</td>\n      <td>9</td>\n      <td>9</td>\n      <td>2</td>\n      <td>10</td>\n    </tr>\n    <tr>\n      <th>2</th>\n      <td>3</td>\n      <td>91</td>\n      <td>87</td>\n      <td>30</td>\n      <td>192</td>\n    </tr>\n    <tr>\n      <th>3</th>\n      <td>5</td>\n      <td>11</td>\n      <td>11</td>\n      <td>4</td>\n      <td>12</td>\n    </tr>\n    <tr>\n      <th>4</th>\n      <td>7</td>\n      <td>1</td>\n      <td>1</td>\n      <td>0</td>\n      <td>1</td>\n    </tr>\n  </tbody>\n</table>\n</div>"
     },
     "execution_count": 264,
     "metadata": {},
     "output_type": "execute_result"
    }
   ],
   "source": [
    "user_events = events_data.pivot_table(\n",
    "    index='user_id', columns='action', values='step_id', aggfunc='count', fill_value=0\n",
    ").reset_index().rename_axis('', axis=1)\n",
    "\n",
    "user_events.head()"
   ],
   "metadata": {
    "collapsed": false,
    "pycharm": {
     "name": "#%%\n"
    }
   }
  },
  {
   "cell_type": "code",
   "execution_count": 265,
   "outputs": [
    {
     "data": {
      "text/plain": "<Figure size 648x432 with 1 Axes>",
      "image/png": "[encoded data removed]"
     },
     "metadata": {},
     "output_type": "display_data"
    }
   ],
   "source": [
    "ax = sns.histplot(user_events.passed)\n",
    "ax.set(xlabel='количество решенных заданий', ylabel='количество пользователей', title='Количество пользователей, решившие какое-то количество степов')\n",
    "None"
   ],
   "metadata": {
    "collapsed": false,
    "pycharm": {
     "name": "#%%\n"
    }
   }
  },
  {
   "cell_type": "code",
   "execution_count": 266,
   "outputs": [
    {
     "data": {
      "text/plain": "1972"
     },
     "execution_count": 266,
     "metadata": {},
     "output_type": "execute_result"
    }
   ],
   "source": [
    "#Сколько пользователей не сделали ни одной задачи\n",
    "user_events.query('passed == 0').shape[0]"
   ],
   "metadata": {
    "collapsed": false,
    "pycharm": {
     "name": "#%%\n"
    }
   }
  },
  {
   "cell_type": "code",
   "execution_count": 267,
   "outputs": [
    {
     "data": {
      "text/plain": "   user_id  correct  wrong\n0        2        2      0\n1        3       29     23\n2        5        2      2\n3        8        9     21\n4       14        0      1",
      "text/html": "<div>\n<style scoped>\n    .dataframe tbody tr th:only-of-type {\n        vertical-align: middle;\n    }\n\n    .dataframe tbody tr th {\n        vertical-align: top;\n    }\n\n    .dataframe thead th {\n        text-align: right;\n    }\n</style>\n<table border=\"1\" class=\"dataframe\">\n  <thead>\n    <tr style=\"text-align: right;\">\n      <th></th>\n      <th>user_id</th>\n      <th>correct</th>\n      <th>wrong</th>\n    </tr>\n  </thead>\n  <tbody>\n    <tr>\n      <th>0</th>\n      <td>2</td>\n      <td>2</td>\n      <td>0</td>\n    </tr>\n    <tr>\n      <th>1</th>\n      <td>3</td>\n      <td>29</td>\n      <td>23</td>\n    </tr>\n    <tr>\n      <th>2</th>\n      <td>5</td>\n      <td>2</td>\n      <td>2</td>\n    </tr>\n    <tr>\n      <th>3</th>\n      <td>8</td>\n      <td>9</td>\n      <td>21</td>\n    </tr>\n    <tr>\n      <th>4</th>\n      <td>14</td>\n      <td>0</td>\n      <td>1</td>\n    </tr>\n  </tbody>\n</table>\n</div>"
     },
     "execution_count": 267,
     "metadata": {},
     "output_type": "execute_result"
    }
   ],
   "source": [
    "# Правильные и неправильные ответы пользователей\n",
    "user_submissions = submissions_data.pivot_table(\n",
    "    index='user_id', columns='submission_status', values='step_id', aggfunc='count', fill_value=0\n",
    ").reset_index().rename_axis('', axis=1)\n",
    "\n",
    "user_submissions.head()"
   ],
   "metadata": {
    "collapsed": false,
    "pycharm": {
     "name": "#%%\n"
    }
   }
  },
  {
   "cell_type": "code",
   "execution_count": 268,
   "outputs": [
    {
     "data": {
      "text/plain": "         unique_days\nuser_id             \n1                  1\n2                  2\n3                  7\n5                  2\n7                  1",
      "text/html": "<div>\n<style scoped>\n    .dataframe tbody tr th:only-of-type {\n        vertical-align: middle;\n    }\n\n    .dataframe tbody tr th {\n        vertical-align: top;\n    }\n\n    .dataframe thead th {\n        text-align: right;\n    }\n</style>\n<table border=\"1\" class=\"dataframe\">\n  <thead>\n    <tr style=\"text-align: right;\">\n      <th></th>\n      <th>unique_days</th>\n    </tr>\n    <tr>\n      <th>user_id</th>\n      <th></th>\n    </tr>\n  </thead>\n  <tbody>\n    <tr>\n      <th>1</th>\n      <td>1</td>\n    </tr>\n    <tr>\n      <th>2</th>\n      <td>2</td>\n    </tr>\n    <tr>\n      <th>3</th>\n      <td>7</td>\n    </tr>\n    <tr>\n      <th>5</th>\n      <td>2</td>\n    </tr>\n    <tr>\n      <th>7</th>\n      <td>1</td>\n    </tr>\n  </tbody>\n</table>\n</div>"
     },
     "execution_count": 268,
     "metadata": {},
     "output_type": "execute_result"
    }
   ],
   "source": [
    "# Сколько уникальных дней учились пользователи:\n",
    "unique_days = events_data.groupby('user_id').day.nunique().to_frame().rename(columns={'day': 'unique_days'})\n",
    "\n",
    "unique_days.head()"
   ],
   "metadata": {
    "collapsed": false,
    "pycharm": {
     "name": "#%%\n"
    }
   }
  },
  {
   "cell_type": "code",
   "execution_count": 269,
   "outputs": [
    {
     "data": {
      "text/plain": "<Figure size 648x432 with 1 Axes>",
      "image/png": "[encoded data removed]"
     },
     "metadata": {},
     "output_type": "display_data"
    }
   ],
   "source": [
    "ax = sns.histplot(unique_days.query('unique_days < 30'))\n",
    "ax.set(xlabel='количество уникальных дней', ylabel='количество пользователей', title='Количество пользователей, заходивших определенное количество дней')\n",
    "None"
   ],
   "metadata": {
    "collapsed": false,
    "pycharm": {
     "name": "#%%\n"
    }
   }
  },
  {
   "cell_type": "code",
   "execution_count": 270,
   "outputs": [
    {
     "data": {
      "text/plain": "        unique_days\ncount  19234.000000\nmean       6.088489\nstd       12.341683\nmin        1.000000\n50%        1.000000\n51%        2.000000\n60%        2.000000\n61%        3.000000\n66%        3.000000\n67%        4.000000\n70%        4.000000\n71%        5.000000\n73%        5.000000\n74%        6.000000\n75%        6.000000\n76%        7.000000\n78%        7.000000\n79%        8.000000\nmax      478.000000",
      "text/html": "<div>\n<style scoped>\n    .dataframe tbody tr th:only-of-type {\n        vertical-align: middle;\n    }\n\n    .dataframe tbody tr th {\n        vertical-align: top;\n    }\n\n    .dataframe thead th {\n        text-align: right;\n    }\n</style>\n<table border=\"1\" class=\"dataframe\">\n  <thead>\n    <tr style=\"text-align: right;\">\n      <th></th>\n      <th>unique_days</th>\n    </tr>\n  </thead>\n  <tbody>\n    <tr>\n      <th>count</th>\n      <td>19234.000000</td>\n    </tr>\n    <tr>\n      <th>mean</th>\n      <td>6.088489</td>\n    </tr>\n    <tr>\n      <th>std</th>\n      <td>12.341683</td>\n    </tr>\n    <tr>\n      <th>min</th>\n      <td>1.000000</td>\n    </tr>\n    <tr>\n      <th>50%</th>\n      <td>1.000000</td>\n    </tr>\n    <tr>\n      <th>51%</th>\n      <td>2.000000</td>\n    </tr>\n    <tr>\n      <th>60%</th>\n      <td>2.000000</td>\n    </tr>\n    <tr>\n      <th>61%</th>\n      <td>3.000000</td>\n    </tr>\n    <tr>\n      <th>66%</th>\n      <td>3.000000</td>\n    </tr>\n    <tr>\n      <th>67%</th>\n      <td>4.000000</td>\n    </tr>\n    <tr>\n      <th>70%</th>\n      <td>4.000000</td>\n    </tr>\n    <tr>\n      <th>71%</th>\n      <td>5.000000</td>\n    </tr>\n    <tr>\n      <th>73%</th>\n      <td>5.000000</td>\n    </tr>\n    <tr>\n      <th>74%</th>\n      <td>6.000000</td>\n    </tr>\n    <tr>\n      <th>75%</th>\n      <td>6.000000</td>\n    </tr>\n    <tr>\n      <th>76%</th>\n      <td>7.000000</td>\n    </tr>\n    <tr>\n      <th>78%</th>\n      <td>7.000000</td>\n    </tr>\n    <tr>\n      <th>79%</th>\n      <td>8.000000</td>\n    </tr>\n    <tr>\n      <th>max</th>\n      <td>478.000000</td>\n    </tr>\n  </tbody>\n</table>\n</div>"
     },
     "execution_count": 270,
     "metadata": {},
     "output_type": "execute_result"
    }
   ],
   "source": [
    "unique_days.describe(percentiles=[.51, .6, .61, .66, .67, .7, .71, .73, .74, .75, .76, .78, .79])"
   ],
   "metadata": {
    "collapsed": false,
    "pycharm": {
     "name": "#%%\n"
    }
   }
  },
  {
   "cell_type": "code",
   "execution_count": 271,
   "outputs": [],
   "source": [
    "STEPS_FOR_PASS = 170"
   ],
   "metadata": {
    "collapsed": false,
    "pycharm": {
     "name": "#%%\n"
    }
   }
  },
  {
   "cell_type": "code",
   "execution_count": 272,
   "outputs": [
    {
     "data": {
      "text/plain": "   user_id  passed_steps  passed_course\n0        1             0              0\n1        2             9              0\n2        3            87              0\n3        5            11              0\n4        7             1              0",
      "text/html": "<div>\n<style scoped>\n    .dataframe tbody tr th:only-of-type {\n        vertical-align: middle;\n    }\n\n    .dataframe tbody tr th {\n        vertical-align: top;\n    }\n\n    .dataframe thead th {\n        text-align: right;\n    }\n</style>\n<table border=\"1\" class=\"dataframe\">\n  <thead>\n    <tr style=\"text-align: right;\">\n      <th></th>\n      <th>user_id</th>\n      <th>passed_steps</th>\n      <th>passed_course</th>\n    </tr>\n  </thead>\n  <tbody>\n    <tr>\n      <th>0</th>\n      <td>1</td>\n      <td>0</td>\n      <td>0</td>\n    </tr>\n    <tr>\n      <th>1</th>\n      <td>2</td>\n      <td>9</td>\n      <td>0</td>\n    </tr>\n    <tr>\n      <th>2</th>\n      <td>3</td>\n      <td>87</td>\n      <td>0</td>\n    </tr>\n    <tr>\n      <th>3</th>\n      <td>5</td>\n      <td>11</td>\n      <td>0</td>\n    </tr>\n    <tr>\n      <th>4</th>\n      <td>7</td>\n      <td>1</td>\n      <td>0</td>\n    </tr>\n  </tbody>\n</table>\n</div>"
     },
     "execution_count": 272,
     "metadata": {},
     "output_type": "execute_result"
    }
   ],
   "source": [
    "# Посмотрим количество пройденных степов\n",
    "users = user_events[['user_id', 'passed']].rename(columns={'passed': 'passed_steps'})\n",
    "users['passed_course'] = users.passed_steps >= STEPS_FOR_PASS\n",
    "users.passed_course = users.passed_course.map(int)\n",
    "\n",
    "users.head()"
   ],
   "metadata": {
    "collapsed": false,
    "pycharm": {
     "name": "#%%\n"
    }
   }
  },
  {
   "cell_type": "code",
   "execution_count": 273,
   "outputs": [
    {
     "data": {
      "text/plain": "   user_id  passed_steps  passed_course  first_visit  last_visit\n0        1             0              0   1472827464  1472827464\n1        2             9              0   1514383364  1519226966\n2        3            87              0   1434358476  1444581588\n3        5            11              0   1466156809  1499859939\n4        7             1              0   1521634660  1521634660",
      "text/html": "<div>\n<style scoped>\n    .dataframe tbody tr th:only-of-type {\n        vertical-align: middle;\n    }\n\n    .dataframe tbody tr th {\n        vertical-align: top;\n    }\n\n    .dataframe thead th {\n        text-align: right;\n    }\n</style>\n<table border=\"1\" class=\"dataframe\">\n  <thead>\n    <tr style=\"text-align: right;\">\n      <th></th>\n      <th>user_id</th>\n      <th>passed_steps</th>\n      <th>passed_course</th>\n      <th>first_visit</th>\n      <th>last_visit</th>\n    </tr>\n  </thead>\n  <tbody>\n    <tr>\n      <th>0</th>\n      <td>1</td>\n      <td>0</td>\n      <td>0</td>\n      <td>1472827464</td>\n      <td>1472827464</td>\n    </tr>\n    <tr>\n      <th>1</th>\n      <td>2</td>\n      <td>9</td>\n      <td>0</td>\n      <td>1514383364</td>\n      <td>1519226966</td>\n    </tr>\n    <tr>\n      <th>2</th>\n      <td>3</td>\n      <td>87</td>\n      <td>0</td>\n      <td>1434358476</td>\n      <td>1444581588</td>\n    </tr>\n    <tr>\n      <th>3</th>\n      <td>5</td>\n      <td>11</td>\n      <td>0</td>\n      <td>1466156809</td>\n      <td>1499859939</td>\n    </tr>\n    <tr>\n      <th>4</th>\n      <td>7</td>\n      <td>1</td>\n      <td>0</td>\n      <td>1521634660</td>\n      <td>1521634660</td>\n    </tr>\n  </tbody>\n</table>\n</div>"
     },
     "execution_count": 273,
     "metadata": {},
     "output_type": "execute_result"
    }
   ],
   "source": [
    "# Добавим первый и последний заходы на курс:\n",
    "users = users.merge(events_data.groupby('user_id').timestamp.min().to_frame().rename(columns={'timestamp': 'first_visit'}), on='user_id')\n",
    "users = users.merge(events_data.groupby('user_id').timestamp.max().to_frame().rename(columns={'timestamp': 'last_visit'}), on='user_id')\n",
    "\n",
    "users.head()"
   ],
   "metadata": {
    "collapsed": false,
    "pycharm": {
     "name": "#%%\n"
    }
   }
  },
  {
   "cell_type": "code",
   "execution_count": 274,
   "outputs": [
    {
     "data": {
      "text/plain": "<Figure size 648x432 with 1 Axes>",
      "image/png": "[encoded data removed]"
     },
     "metadata": {},
     "output_type": "display_data"
    }
   ],
   "source": [
    "ax = sns.countplot(data=users, x='passed_course')\n",
    "ax.set(xlabel='количество пользователей', title='Сравнение сколько закончили курс и сколько нет')\n",
    "None"
   ],
   "metadata": {
    "collapsed": false,
    "pycharm": {
     "name": "#%%\n"
    }
   }
  },
  {
   "cell_type": "code",
   "execution_count": 275,
   "outputs": [],
   "source": [
    "# Надо понять, пользователи без сертификата еще учатся или уже бросили курс?\n",
    "\n",
    "# Попробуем 2 подхода:\n",
    "\n",
    "# 1.\n",
    "# Изучим длительность обучения пользователей, получивших сертификат.\n",
    "# Возьмем максимальное количество дней или какой-нибудь 99 персентиль в качестве \"порога длительности обучения\".\n",
    "# Если пользователь без сертификата учится дольше, чем порог - считаем что он бросил курс.\n",
    "\n",
    "# 2.\n",
    "# Изучим перерывы в обучении у пользователей, получивших сертификат.\n",
    "# Возьмем максимальный перерыв или какой-нибудь 99 персентиль в качестве \"порога длительности отсутствия\".\n",
    "# Если от последнего событитя пользователя до сегодняшнего дня прошло больше времени, чем порог\n",
    "# - считаем что он бросил курс."
   ],
   "metadata": {
    "collapsed": false,
    "pycharm": {
     "name": "#%%\n"
    }
   }
  },
  {
   "cell_type": "code",
   "execution_count": 276,
   "outputs": [],
   "source": [
    "#1\n"
   ],
   "metadata": {
    "collapsed": false,
    "pycharm": {
     "name": "#%%\n"
    }
   }
  },
  {
   "cell_type": "code",
   "execution_count": 277,
   "outputs": [],
   "source": [
    "# ID прошедших курс пользователей:\n",
    "passed_course_user_ids = users[users['passed_course'] == True].user_id\n",
    "events_of_passed_course_users = events_data[events_data['user_id'].isin(passed_course_user_ids)]"
   ],
   "metadata": {
    "collapsed": false,
    "pycharm": {
     "name": "#%%\n"
    }
   }
  },
  {
   "cell_type": "code",
   "execution_count": 278,
   "outputs": [
    {
     "data": {
      "text/plain": "(9           16\n 13          22\n 18          30\n 22          34\n 26          39\n          ...  \n 19190    26740\n 19207    26763\n 19218    26777\n 19220    26779\n 19221    26781\n Name: user_id, Length: 1433, dtype: int64,\n          step_id   timestamp      action  user_id                date  \\\n 94         32815  1434342230  discovered     6646 2015-06-15 04:23:50   \n 95         32815  1434342230      passed     6646 2015-06-15 04:23:50   \n 96         32815  1434342230      viewed     6646 2015-06-15 04:23:50   \n 97         32811  1434342233      passed     6646 2015-06-15 04:23:53   \n 98         32811  1434342233  discovered     6646 2015-06-15 04:23:53   \n ...          ...         ...         ...      ...                 ...   \n 3479642    34026  1526756104      viewed    23194 2018-05-19 18:55:04   \n 3479644    33901  1526756106      viewed    23194 2018-05-19 18:55:06   \n 3479652    33901  1526756195      viewed    23194 2018-05-19 18:56:35   \n 3479653    33899  1526756197      viewed    23194 2018-05-19 18:56:37   \n 3480130    33488  1526760771      viewed      824 2018-05-19 20:12:51   \n \n                 day    month  \n 94       2015-06-15  2015-06  \n 95       2015-06-15  2015-06  \n 96       2015-06-15  2015-06  \n 97       2015-06-15  2015-06  \n 98       2015-06-15  2015-06  \n ...             ...      ...  \n 3479642  2018-05-19  2018-05  \n 3479644  2018-05-19  2018-05  \n 3479652  2018-05-19  2018-05  \n 3479653  2018-05-19  2018-05  \n 3480130  2018-05-19  2018-05  \n \n [1486113 rows x 7 columns])"
     },
     "execution_count": 278,
     "metadata": {},
     "output_type": "execute_result"
    }
   ],
   "source": [
    "passed_course_user_ids, events_of_passed_course_users"
   ],
   "metadata": {
    "collapsed": false,
    "pycharm": {
     "name": "#%%\n"
    }
   }
  },
  {
   "cell_type": "code",
   "execution_count": 279,
   "outputs": [
    {
     "data": {
      "text/plain": "         step_id   timestamp  action  user_id                date         day  \\\n282352     32815  1435674765  passed       16 2015-06-30 14:32:45  2015-06-30   \n282363     32811  1435674778  passed       16 2015-06-30 14:32:58  2015-06-30   \n282380     32929  1435674798  passed       16 2015-06-30 14:33:18  2015-06-30   \n282385     32814  1435674800  passed       16 2015-06-30 14:33:20  2015-06-30   \n282417     32812  1435674880  passed       16 2015-06-30 14:34:40  2015-06-30   \n...          ...         ...     ...      ...                 ...         ...   \n2826977    33983  1513093702  passed       16 2017-12-12 15:48:22  2017-12-12   \n2826983    33984  1513093777  passed       16 2017-12-12 15:49:37  2017-12-12   \n2827047    34041  1513094276  passed       16 2017-12-12 15:57:56  2017-12-12   \n2827052    33939  1513094298  passed       16 2017-12-12 15:58:18  2017-12-12   \n2261785    32815  1498561010  passed       22 2017-06-27 10:56:50  2017-06-27   \n\n           month  \n282352   2015-06  \n282363   2015-06  \n282380   2015-06  \n282385   2015-06  \n282417   2015-06  \n...          ...  \n2826977  2017-12  \n2826983  2017-12  \n2827047  2017-12  \n2827052  2017-12  \n2261785  2017-06  \n\n[171 rows x 7 columns]",
      "text/html": "<div>\n<style scoped>\n    .dataframe tbody tr th:only-of-type {\n        vertical-align: middle;\n    }\n\n    .dataframe tbody tr th {\n        vertical-align: top;\n    }\n\n    .dataframe thead th {\n        text-align: right;\n    }\n</style>\n<table border=\"1\" class=\"dataframe\">\n  <thead>\n    <tr style=\"text-align: right;\">\n      <th></th>\n      <th>step_id</th>\n      <th>timestamp</th>\n      <th>action</th>\n      <th>user_id</th>\n      <th>date</th>\n      <th>day</th>\n      <th>month</th>\n    </tr>\n  </thead>\n  <tbody>\n    <tr>\n      <th>282352</th>\n      <td>32815</td>\n      <td>1435674765</td>\n      <td>passed</td>\n      <td>16</td>\n      <td>2015-06-30 14:32:45</td>\n      <td>2015-06-30</td>\n      <td>2015-06</td>\n    </tr>\n    <tr>\n      <th>282363</th>\n      <td>32811</td>\n      <td>1435674778</td>\n      <td>passed</td>\n      <td>16</td>\n      <td>2015-06-30 14:32:58</td>\n      <td>2015-06-30</td>\n      <td>2015-06</td>\n    </tr>\n    <tr>\n      <th>282380</th>\n      <td>32929</td>\n      <td>1435674798</td>\n      <td>passed</td>\n      <td>16</td>\n      <td>2015-06-30 14:33:18</td>\n      <td>2015-06-30</td>\n      <td>2015-06</td>\n    </tr>\n    <tr>\n      <th>282385</th>\n      <td>32814</td>\n      <td>1435674800</td>\n      <td>passed</td>\n      <td>16</td>\n      <td>2015-06-30 14:33:20</td>\n      <td>2015-06-30</td>\n      <td>2015-06</td>\n    </tr>\n    <tr>\n      <th>282417</th>\n      <td>32812</td>\n      <td>1435674880</td>\n      <td>passed</td>\n      <td>16</td>\n      <td>2015-06-30 14:34:40</td>\n      <td>2015-06-30</td>\n      <td>2015-06</td>\n    </tr>\n    <tr>\n      <th>...</th>\n      <td>...</td>\n      <td>...</td>\n      <td>...</td>\n      <td>...</td>\n      <td>...</td>\n      <td>...</td>\n      <td>...</td>\n    </tr>\n    <tr>\n      <th>2826977</th>\n      <td>33983</td>\n      <td>1513093702</td>\n      <td>passed</td>\n      <td>16</td>\n      <td>2017-12-12 15:48:22</td>\n      <td>2017-12-12</td>\n      <td>2017-12</td>\n    </tr>\n    <tr>\n      <th>2826983</th>\n      <td>33984</td>\n      <td>1513093777</td>\n      <td>passed</td>\n      <td>16</td>\n      <td>2017-12-12 15:49:37</td>\n      <td>2017-12-12</td>\n      <td>2017-12</td>\n    </tr>\n    <tr>\n      <th>2827047</th>\n      <td>34041</td>\n      <td>1513094276</td>\n      <td>passed</td>\n      <td>16</td>\n      <td>2017-12-12 15:57:56</td>\n      <td>2017-12-12</td>\n      <td>2017-12</td>\n    </tr>\n    <tr>\n      <th>2827052</th>\n      <td>33939</td>\n      <td>1513094298</td>\n      <td>passed</td>\n      <td>16</td>\n      <td>2017-12-12 15:58:18</td>\n      <td>2017-12-12</td>\n      <td>2017-12</td>\n    </tr>\n    <tr>\n      <th>2261785</th>\n      <td>32815</td>\n      <td>1498561010</td>\n      <td>passed</td>\n      <td>22</td>\n      <td>2017-06-27 10:56:50</td>\n      <td>2017-06-27</td>\n      <td>2017-06</td>\n    </tr>\n  </tbody>\n</table>\n<p>171 rows × 7 columns</p>\n</div>"
     },
     "execution_count": 279,
     "metadata": {},
     "output_type": "execute_result"
    }
   ],
   "source": [
    "# Узнаем время правильного решения 170-й задачи. Это и будет время окончания курса.\n",
    "# Для этого соберем датафрейм из первых 170-ти событий успешного решения практического шага:\n",
    "tmp = events_of_passed_course_users.query('action == \"passed\"').sort_values(['user_id', 'timestamp']).groupby('user_id').head(STEPS_FOR_PASS)\n",
    "\n",
    "tmp.head(STEPS_FOR_PASS + 1)"
   ],
   "metadata": {
    "collapsed": false,
    "pycharm": {
     "name": "#%%\n"
    }
   }
  },
  {
   "cell_type": "code",
   "execution_count": 280,
   "outputs": [
    {
     "data": {
      "text/plain": "         obtaining_cert\nuser_id                \n16           1513094298\n22           1500036463\n30           1509095682\n34           1504794582\n39           1459445025",
      "text/html": "<div>\n<style scoped>\n    .dataframe tbody tr th:only-of-type {\n        vertical-align: middle;\n    }\n\n    .dataframe tbody tr th {\n        vertical-align: top;\n    }\n\n    .dataframe thead th {\n        text-align: right;\n    }\n</style>\n<table border=\"1\" class=\"dataframe\">\n  <thead>\n    <tr style=\"text-align: right;\">\n      <th></th>\n      <th>obtaining_cert</th>\n    </tr>\n    <tr>\n      <th>user_id</th>\n      <th></th>\n    </tr>\n  </thead>\n  <tbody>\n    <tr>\n      <th>16</th>\n      <td>1513094298</td>\n    </tr>\n    <tr>\n      <th>22</th>\n      <td>1500036463</td>\n    </tr>\n    <tr>\n      <th>30</th>\n      <td>1509095682</td>\n    </tr>\n    <tr>\n      <th>34</th>\n      <td>1504794582</td>\n    </tr>\n    <tr>\n      <th>39</th>\n      <td>1459445025</td>\n    </tr>\n  </tbody>\n</table>\n</div>"
     },
     "execution_count": 280,
     "metadata": {},
     "output_type": "execute_result"
    }
   ],
   "source": [
    "#максимальная разница во времени - время получения сертификата\n",
    "obtaining_certs = tmp.groupby('user_id').timestamp.max().to_frame().rename(columns={'timestamp': 'obtaining_cert'})\n",
    "\n",
    "obtaining_certs.head()"
   ],
   "metadata": {
    "collapsed": false,
    "pycharm": {
     "name": "#%%\n"
    }
   }
  },
  {
   "cell_type": "code",
   "execution_count": 281,
   "outputs": [
    {
     "data": {
      "text/plain": "   user_id  passed_steps  passed_course  first_visit  last_visit  \\\n0       16           196              1   1435674765  1513162585   \n1       22           198              1   1498561010  1507142631   \n2       30           198              1   1467307716  1510574287   \n3       34           195              1   1493156230  1525626844   \n4       39           198              1   1456943480  1502712399   \n\n   obtaining_cert  days_spent_on_obtaining_cert  \n0      1513094298                           897  \n1      1500036463                            18  \n2      1509095682                           484  \n3      1504794582                           135  \n4      1459445025                            29  ",
      "text/html": "<div>\n<style scoped>\n    .dataframe tbody tr th:only-of-type {\n        vertical-align: middle;\n    }\n\n    .dataframe tbody tr th {\n        vertical-align: top;\n    }\n\n    .dataframe thead th {\n        text-align: right;\n    }\n</style>\n<table border=\"1\" class=\"dataframe\">\n  <thead>\n    <tr style=\"text-align: right;\">\n      <th></th>\n      <th>user_id</th>\n      <th>passed_steps</th>\n      <th>passed_course</th>\n      <th>first_visit</th>\n      <th>last_visit</th>\n      <th>obtaining_cert</th>\n      <th>days_spent_on_obtaining_cert</th>\n    </tr>\n  </thead>\n  <tbody>\n    <tr>\n      <th>0</th>\n      <td>16</td>\n      <td>196</td>\n      <td>1</td>\n      <td>1435674765</td>\n      <td>1513162585</td>\n      <td>1513094298</td>\n      <td>897</td>\n    </tr>\n    <tr>\n      <th>1</th>\n      <td>22</td>\n      <td>198</td>\n      <td>1</td>\n      <td>1498561010</td>\n      <td>1507142631</td>\n      <td>1500036463</td>\n      <td>18</td>\n    </tr>\n    <tr>\n      <th>2</th>\n      <td>30</td>\n      <td>198</td>\n      <td>1</td>\n      <td>1467307716</td>\n      <td>1510574287</td>\n      <td>1509095682</td>\n      <td>484</td>\n    </tr>\n    <tr>\n      <th>3</th>\n      <td>34</td>\n      <td>195</td>\n      <td>1</td>\n      <td>1493156230</td>\n      <td>1525626844</td>\n      <td>1504794582</td>\n      <td>135</td>\n    </tr>\n    <tr>\n      <th>4</th>\n      <td>39</td>\n      <td>198</td>\n      <td>1</td>\n      <td>1456943480</td>\n      <td>1502712399</td>\n      <td>1459445025</td>\n      <td>29</td>\n    </tr>\n  </tbody>\n</table>\n</div>"
     },
     "execution_count": 281,
     "metadata": {},
     "output_type": "execute_result"
    }
   ],
   "source": [
    "# Создадим датафрейм, поместим туда прошедших курс пользователей:\n",
    "passed_course_users = users.query('passed_course == True')\n",
    "\n",
    "# Добавим время получения сертификата:\n",
    "passed_course_users = passed_course_users.merge(obtaining_certs, on='user_id')\n",
    "passed_course_users['days_spent_on_obtaining_cert'] =np.ceil((passed_course_users['obtaining_cert'] -passed_course_users['first_visit']) / (24 * 60 * 60)).map(int)\n",
    "\n",
    "passed_course_users.head()"
   ],
   "metadata": {
    "collapsed": false,
    "pycharm": {
     "name": "#%%\n"
    }
   }
  },
  {
   "cell_type": "code",
   "execution_count": 282,
   "outputs": [
    {
     "data": {
      "text/plain": "<AxesSubplot:>"
     },
     "execution_count": 282,
     "metadata": {},
     "output_type": "execute_result"
    },
    {
     "data": {
      "text/plain": "<Figure size 648x432 with 1 Axes>",
      "image/png": "[encoded data removed]"
     },
     "metadata": {},
     "output_type": "display_data"
    }
   ],
   "source": [
    "# Ось x - количество дней, ось y - количество учеников:\n",
    "passed_course_users['days_spent_on_obtaining_cert'].hist()"
   ],
   "metadata": {
    "collapsed": false,
    "pycharm": {
     "name": "#%%\n"
    }
   }
  },
  {
   "cell_type": "code",
   "execution_count": 283,
   "outputs": [
    {
     "data": {
      "text/plain": "count    1433.000000\nmean       92.387299\nstd       152.200695\nmin         1.000000\n50%        31.000000\n90%       283.800000\n95%       434.000000\n99%       747.440000\nmax      1056.000000\nName: days_spent_on_obtaining_cert, dtype: float64"
     },
     "execution_count": 283,
     "metadata": {},
     "output_type": "execute_result"
    }
   ],
   "source": [
    "passed_course_users['days_spent_on_obtaining_cert'].describe(percentiles=[.9, .95, .99])\n",
    "\n",
    "# Сколько дней обучения брать в качестве порога?\n",
    "\n",
    "# Например, считаем, что пользователь бросил курс,\n",
    "# если он не получил сертификат и уже учится более 434 дней (95 персентиль).\n",
    "\n",
    "# Пользователи, которые не имеют сертификат и учатся меньше 434 дней, будут в неопределенном статусе.\n",
    "# Посмотрим, сколько таких пользователей будет при взятии различных порогов."
   ],
   "metadata": {
    "collapsed": false,
    "pycharm": {
     "name": "#%%\n"
    }
   }
  },
  {
   "cell_type": "code",
   "execution_count": 284,
   "outputs": [
    {
     "data": {
      "text/plain": "   user_id  passed_steps  passed_course  first_visit  last_visit\n0        1             0              0   1472827464  1472827464\n1        2             9              0   1514383364  1519226966\n2        3            87              0   1434358476  1444581588\n3        5            11              0   1466156809  1499859939\n4        7             1              0   1521634660  1521634660",
      "text/html": "<div>\n<style scoped>\n    .dataframe tbody tr th:only-of-type {\n        vertical-align: middle;\n    }\n\n    .dataframe tbody tr th {\n        vertical-align: top;\n    }\n\n    .dataframe thead th {\n        text-align: right;\n    }\n</style>\n<table border=\"1\" class=\"dataframe\">\n  <thead>\n    <tr style=\"text-align: right;\">\n      <th></th>\n      <th>user_id</th>\n      <th>passed_steps</th>\n      <th>passed_course</th>\n      <th>first_visit</th>\n      <th>last_visit</th>\n    </tr>\n  </thead>\n  <tbody>\n    <tr>\n      <th>0</th>\n      <td>1</td>\n      <td>0</td>\n      <td>0</td>\n      <td>1472827464</td>\n      <td>1472827464</td>\n    </tr>\n    <tr>\n      <th>1</th>\n      <td>2</td>\n      <td>9</td>\n      <td>0</td>\n      <td>1514383364</td>\n      <td>1519226966</td>\n    </tr>\n    <tr>\n      <th>2</th>\n      <td>3</td>\n      <td>87</td>\n      <td>0</td>\n      <td>1434358476</td>\n      <td>1444581588</td>\n    </tr>\n    <tr>\n      <th>3</th>\n      <td>5</td>\n      <td>11</td>\n      <td>0</td>\n      <td>1466156809</td>\n      <td>1499859939</td>\n    </tr>\n    <tr>\n      <th>4</th>\n      <td>7</td>\n      <td>1</td>\n      <td>0</td>\n      <td>1521634660</td>\n      <td>1521634660</td>\n    </tr>\n  </tbody>\n</table>\n</div>"
     },
     "execution_count": 284,
     "metadata": {},
     "output_type": "execute_result"
    }
   ],
   "source": [
    "# Пользователи без сертификатов:\n",
    "not_passed_course_users = users.query('passed_course == False')\n",
    "not_passed_course_users\n",
    "training_length_threshold = 747 * 24 * 60 * 60\n",
    "\n",
    "not_passed_course_users.head()"
   ],
   "metadata": {
    "collapsed": false,
    "pycharm": {
     "name": "#%%\n"
    }
   }
  },
  {
   "cell_type": "code",
   "execution_count": 285,
   "outputs": [
    {
     "data": {
      "text/plain": "11417"
     },
     "execution_count": 285,
     "metadata": {},
     "output_type": "execute_result"
    }
   ],
   "source": [
    "# 11417 человек  начали проходить курс меньше чем 747 дня назад (99-й персентиль).\n",
    "# 7530  человека начали проходить курс меньше чем 434 дня назад (95-й персентиль).\n",
    "not_passed_course_users.query('first_visit + @training_length_threshold > @now').shape[0]"
   ],
   "metadata": {
    "collapsed": false,
    "pycharm": {
     "name": "#%%\n"
    }
   }
  },
  {
   "cell_type": "code",
   "execution_count": 286,
   "outputs": [
    {
     "data": {
      "text/plain": "0.5935842778413226"
     },
     "execution_count": 286,
     "metadata": {},
     "output_type": "execute_result"
    }
   ],
   "source": [
    "# Мы потеряем 59.3% пользователей без сертификата в случае взятия 99-го персентиля в качестве порога.\n",
    "# т.к. они не закончили курс и не бросили его.\n",
    "# Мы потеряем 39.1% пользователей без сертификата в случае взятия 95-го персентиля в качестве порога.\n",
    "not_passed_course_users.query('first_visit + @training_length_threshold > @now').shape[0] / users.shape[0]"
   ],
   "metadata": {
    "collapsed": false,
    "pycharm": {
     "name": "#%%\n"
    }
   }
  },
  {
   "cell_type": "code",
   "execution_count": 287,
   "outputs": [],
   "source": [
    "#2"
   ],
   "metadata": {
    "collapsed": false,
    "pycharm": {
     "name": "#%%\n"
    }
   }
  },
  {
   "cell_type": "code",
   "execution_count": 288,
   "outputs": [
    {
     "data": {
      "text/plain": "   step_id   timestamp      action  user_id                date         day  \\\n0    32815  1434342230  discovered     6646 2015-06-15 04:23:50  2015-06-15   \n1    32815  1434342230      passed     6646 2015-06-15 04:23:50  2015-06-15   \n2    32815  1434342230      viewed     6646 2015-06-15 04:23:50  2015-06-15   \n3    32811  1434342233      passed     6646 2015-06-15 04:23:53  2015-06-15   \n4    32811  1434342233  discovered     6646 2015-06-15 04:23:53  2015-06-15   \n\n     month  obtaining_cert  \n0  2015-06      1437414247  \n1  2015-06      1437414247  \n2  2015-06      1437414247  \n3  2015-06      1437414247  \n4  2015-06      1437414247  ",
      "text/html": "<div>\n<style scoped>\n    .dataframe tbody tr th:only-of-type {\n        vertical-align: middle;\n    }\n\n    .dataframe tbody tr th {\n        vertical-align: top;\n    }\n\n    .dataframe thead th {\n        text-align: right;\n    }\n</style>\n<table border=\"1\" class=\"dataframe\">\n  <thead>\n    <tr style=\"text-align: right;\">\n      <th></th>\n      <th>step_id</th>\n      <th>timestamp</th>\n      <th>action</th>\n      <th>user_id</th>\n      <th>date</th>\n      <th>day</th>\n      <th>month</th>\n      <th>obtaining_cert</th>\n    </tr>\n  </thead>\n  <tbody>\n    <tr>\n      <th>0</th>\n      <td>32815</td>\n      <td>1434342230</td>\n      <td>discovered</td>\n      <td>6646</td>\n      <td>2015-06-15 04:23:50</td>\n      <td>2015-06-15</td>\n      <td>2015-06</td>\n      <td>1437414247</td>\n    </tr>\n    <tr>\n      <th>1</th>\n      <td>32815</td>\n      <td>1434342230</td>\n      <td>passed</td>\n      <td>6646</td>\n      <td>2015-06-15 04:23:50</td>\n      <td>2015-06-15</td>\n      <td>2015-06</td>\n      <td>1437414247</td>\n    </tr>\n    <tr>\n      <th>2</th>\n      <td>32815</td>\n      <td>1434342230</td>\n      <td>viewed</td>\n      <td>6646</td>\n      <td>2015-06-15 04:23:50</td>\n      <td>2015-06-15</td>\n      <td>2015-06</td>\n      <td>1437414247</td>\n    </tr>\n    <tr>\n      <th>3</th>\n      <td>32811</td>\n      <td>1434342233</td>\n      <td>passed</td>\n      <td>6646</td>\n      <td>2015-06-15 04:23:53</td>\n      <td>2015-06-15</td>\n      <td>2015-06</td>\n      <td>1437414247</td>\n    </tr>\n    <tr>\n      <th>4</th>\n      <td>32811</td>\n      <td>1434342233</td>\n      <td>discovered</td>\n      <td>6646</td>\n      <td>2015-06-15 04:23:53</td>\n      <td>2015-06-15</td>\n      <td>2015-06</td>\n      <td>1437414247</td>\n    </tr>\n  </tbody>\n</table>\n</div>"
     },
     "execution_count": 288,
     "metadata": {},
     "output_type": "execute_result"
    }
   ],
   "source": [
    "# Добавим время получения сертификата к событиям пользователей получивших сертификат:\n",
    "events_of_passed_course_users = events_of_passed_course_users.merge(\n",
    "    passed_course_users[['user_id', 'obtaining_cert']], on='user_id'\n",
    ")\n",
    "\n",
    "events_of_passed_course_users.head()"
   ],
   "metadata": {
    "collapsed": false,
    "pycharm": {
     "name": "#%%\n"
    }
   }
  },
  {
   "cell_type": "code",
   "execution_count": 289,
   "outputs": [
    {
     "data": {
      "text/plain": "         max_break\nuser_id           \n16        61161049\n22          263487\n30        12567375\n34         4938396\n39          266880",
      "text/html": "<div>\n<style scoped>\n    .dataframe tbody tr th:only-of-type {\n        vertical-align: middle;\n    }\n\n    .dataframe tbody tr th {\n        vertical-align: top;\n    }\n\n    .dataframe thead th {\n        text-align: right;\n    }\n</style>\n<table border=\"1\" class=\"dataframe\">\n  <thead>\n    <tr style=\"text-align: right;\">\n      <th></th>\n      <th>max_break</th>\n    </tr>\n    <tr>\n      <th>user_id</th>\n      <th></th>\n    </tr>\n  </thead>\n  <tbody>\n    <tr>\n      <th>16</th>\n      <td>61161049</td>\n    </tr>\n    <tr>\n      <th>22</th>\n      <td>263487</td>\n    </tr>\n    <tr>\n      <th>30</th>\n      <td>12567375</td>\n    </tr>\n    <tr>\n      <th>34</th>\n      <td>4938396</td>\n    </tr>\n    <tr>\n      <th>39</th>\n      <td>266880</td>\n    </tr>\n  </tbody>\n</table>\n</div>"
     },
     "execution_count": 289,
     "metadata": {},
     "output_type": "execute_result"
    }
   ],
   "source": [
    "# Для каждого пользователя получим максимальный перерыв между событиями до получения сертификата:\n",
    "max_breaks_of_passed_course_users = events_of_passed_course_users.query('timestamp <= obtaining_cert')[['user_id', 'timestamp']].groupby('user_id')['timestamp'].apply(list).apply(np.diff).apply(np.max).to_frame().rename(columns={'timestamp': 'max_break'})\n",
    "\n",
    "max_breaks_of_passed_course_users.head()"
   ],
   "metadata": {
    "collapsed": false,
    "pycharm": {
     "name": "#%%\n"
    }
   }
  },
  {
   "cell_type": "code",
   "execution_count": 290,
   "outputs": [
    {
     "data": {
      "text/plain": "         max_break\nuser_id           \n16             708\n22               4\n30             146\n34              58\n39               4",
      "text/html": "<div>\n<style scoped>\n    .dataframe tbody tr th:only-of-type {\n        vertical-align: middle;\n    }\n\n    .dataframe tbody tr th {\n        vertical-align: top;\n    }\n\n    .dataframe thead th {\n        text-align: right;\n    }\n</style>\n<table border=\"1\" class=\"dataframe\">\n  <thead>\n    <tr style=\"text-align: right;\">\n      <th></th>\n      <th>max_break</th>\n    </tr>\n    <tr>\n      <th>user_id</th>\n      <th></th>\n    </tr>\n  </thead>\n  <tbody>\n    <tr>\n      <th>16</th>\n      <td>708</td>\n    </tr>\n    <tr>\n      <th>22</th>\n      <td>4</td>\n    </tr>\n    <tr>\n      <th>30</th>\n      <td>146</td>\n    </tr>\n    <tr>\n      <th>34</th>\n      <td>58</td>\n    </tr>\n    <tr>\n      <th>39</th>\n      <td>4</td>\n    </tr>\n  </tbody>\n</table>\n</div>"
     },
     "execution_count": 290,
     "metadata": {},
     "output_type": "execute_result"
    }
   ],
   "source": [
    "# Переведем секунды в дни:\n",
    "max_breaks_of_passed_course_users['max_break'] =np.ceil(max_breaks_of_passed_course_users['max_break'] / (24 * 60 * 60)).map(int)\n",
    "\n",
    "max_breaks_of_passed_course_users.head()"
   ],
   "metadata": {
    "collapsed": false,
    "pycharm": {
     "name": "#%%\n"
    }
   }
  },
  {
   "cell_type": "code",
   "execution_count": 291,
   "outputs": [
    {
     "data": {
      "text/plain": "   user_id  passed_steps  passed_course  first_visit  last_visit  \\\n0       16           196              1   1435674765  1513162585   \n1       22           198              1   1498561010  1507142631   \n2       30           198              1   1467307716  1510574287   \n3       34           195              1   1493156230  1525626844   \n4       39           198              1   1456943480  1502712399   \n\n   obtaining_cert  days_spent_on_obtaining_cert  max_break  \n0      1513094298                           897        708  \n1      1500036463                            18          4  \n2      1509095682                           484        146  \n3      1504794582                           135         58  \n4      1459445025                            29          4  ",
      "text/html": "<div>\n<style scoped>\n    .dataframe tbody tr th:only-of-type {\n        vertical-align: middle;\n    }\n\n    .dataframe tbody tr th {\n        vertical-align: top;\n    }\n\n    .dataframe thead th {\n        text-align: right;\n    }\n</style>\n<table border=\"1\" class=\"dataframe\">\n  <thead>\n    <tr style=\"text-align: right;\">\n      <th></th>\n      <th>user_id</th>\n      <th>passed_steps</th>\n      <th>passed_course</th>\n      <th>first_visit</th>\n      <th>last_visit</th>\n      <th>obtaining_cert</th>\n      <th>days_spent_on_obtaining_cert</th>\n      <th>max_break</th>\n    </tr>\n  </thead>\n  <tbody>\n    <tr>\n      <th>0</th>\n      <td>16</td>\n      <td>196</td>\n      <td>1</td>\n      <td>1435674765</td>\n      <td>1513162585</td>\n      <td>1513094298</td>\n      <td>897</td>\n      <td>708</td>\n    </tr>\n    <tr>\n      <th>1</th>\n      <td>22</td>\n      <td>198</td>\n      <td>1</td>\n      <td>1498561010</td>\n      <td>1507142631</td>\n      <td>1500036463</td>\n      <td>18</td>\n      <td>4</td>\n    </tr>\n    <tr>\n      <th>2</th>\n      <td>30</td>\n      <td>198</td>\n      <td>1</td>\n      <td>1467307716</td>\n      <td>1510574287</td>\n      <td>1509095682</td>\n      <td>484</td>\n      <td>146</td>\n    </tr>\n    <tr>\n      <th>3</th>\n      <td>34</td>\n      <td>195</td>\n      <td>1</td>\n      <td>1493156230</td>\n      <td>1525626844</td>\n      <td>1504794582</td>\n      <td>135</td>\n      <td>58</td>\n    </tr>\n    <tr>\n      <th>4</th>\n      <td>39</td>\n      <td>198</td>\n      <td>1</td>\n      <td>1456943480</td>\n      <td>1502712399</td>\n      <td>1459445025</td>\n      <td>29</td>\n      <td>4</td>\n    </tr>\n  </tbody>\n</table>\n</div>"
     },
     "execution_count": 291,
     "metadata": {},
     "output_type": "execute_result"
    }
   ],
   "source": [
    "# Добавим максимальный перерыв между событиями к пользователям, получившим сетрификат:\n",
    "passed_course_users = passed_course_users.merge(max_breaks_of_passed_course_users, on='user_id')\n",
    "\n",
    "passed_course_users.head()"
   ],
   "metadata": {
    "collapsed": false,
    "pycharm": {
     "name": "#%%\n"
    }
   }
  },
  {
   "cell_type": "code",
   "execution_count": 292,
   "outputs": [
    {
     "data": {
      "text/plain": "<AxesSubplot:>"
     },
     "execution_count": 292,
     "metadata": {},
     "output_type": "execute_result"
    },
    {
     "data": {
      "text/plain": "<Figure size 648x432 with 1 Axes>",
      "image/png": "[encoded data removed]"
     },
     "metadata": {},
     "output_type": "display_data"
    }
   ],
   "source": [
    "passed_course_users['max_break'].hist()"
   ],
   "metadata": {
    "collapsed": false,
    "pycharm": {
     "name": "#%%\n"
    }
   }
  },
  {
   "cell_type": "code",
   "execution_count": 293,
   "outputs": [
    {
     "data": {
      "text/plain": "count    1433.000000\nmean       48.413119\nstd       107.147067\nmin         1.000000\n50%         8.000000\n90%       144.000000\n95%       274.600000\n99%       536.680000\nmax       947.000000\nName: max_break, dtype: float64"
     },
     "execution_count": 293,
     "metadata": {},
     "output_type": "execute_result"
    }
   ],
   "source": [
    "passed_course_users['max_break'].describe(percentiles=[.9, .95, .99])\n",
    "\n",
    "# Какой максимальный перерыв брать в качестве порога?\n",
    "# Посмотрим, сколько пользователей мы \"потеряем\" при взятии различных порогов."
   ],
   "metadata": {
    "collapsed": false,
    "pycharm": {
     "name": "#%%\n"
    }
   }
  },
  {
   "cell_type": "code",
   "execution_count": 294,
   "outputs": [
    {
     "data": {
      "text/plain": "0    1\n1    2\n2    3\n3    5\n4    7\nName: user_id, dtype: int64"
     },
     "execution_count": 294,
     "metadata": {},
     "output_type": "execute_result"
    }
   ],
   "source": [
    "# ID пользователей без сертификата:\n",
    "not_passed_course_user_ids = users.query('passed_course == False').user_id\n",
    "\n",
    "not_passed_course_user_ids.head()"
   ],
   "metadata": {
    "collapsed": false,
    "pycharm": {
     "name": "#%%\n"
    }
   }
  },
  {
   "cell_type": "code",
   "execution_count": 295,
   "outputs": [
    {
     "data": {
      "text/plain": "   step_id   timestamp      action  user_id                date         day  \\\n0    32815  1434340848      viewed    17632 2015-06-15 04:00:48  2015-06-15   \n1    32815  1434340848      passed    17632 2015-06-15 04:00:48  2015-06-15   \n2    32815  1434340848  discovered    17632 2015-06-15 04:00:48  2015-06-15   \n3    32811  1434340895  discovered    17632 2015-06-15 04:01:35  2015-06-15   \n4    32811  1434340895      viewed    17632 2015-06-15 04:01:35  2015-06-15   \n\n     month  \n0  2015-06  \n1  2015-06  \n2  2015-06  \n3  2015-06  \n4  2015-06  ",
      "text/html": "<div>\n<style scoped>\n    .dataframe tbody tr th:only-of-type {\n        vertical-align: middle;\n    }\n\n    .dataframe tbody tr th {\n        vertical-align: top;\n    }\n\n    .dataframe thead th {\n        text-align: right;\n    }\n</style>\n<table border=\"1\" class=\"dataframe\">\n  <thead>\n    <tr style=\"text-align: right;\">\n      <th></th>\n      <th>step_id</th>\n      <th>timestamp</th>\n      <th>action</th>\n      <th>user_id</th>\n      <th>date</th>\n      <th>day</th>\n      <th>month</th>\n    </tr>\n  </thead>\n  <tbody>\n    <tr>\n      <th>0</th>\n      <td>32815</td>\n      <td>1434340848</td>\n      <td>viewed</td>\n      <td>17632</td>\n      <td>2015-06-15 04:00:48</td>\n      <td>2015-06-15</td>\n      <td>2015-06</td>\n    </tr>\n    <tr>\n      <th>1</th>\n      <td>32815</td>\n      <td>1434340848</td>\n      <td>passed</td>\n      <td>17632</td>\n      <td>2015-06-15 04:00:48</td>\n      <td>2015-06-15</td>\n      <td>2015-06</td>\n    </tr>\n    <tr>\n      <th>2</th>\n      <td>32815</td>\n      <td>1434340848</td>\n      <td>discovered</td>\n      <td>17632</td>\n      <td>2015-06-15 04:00:48</td>\n      <td>2015-06-15</td>\n      <td>2015-06</td>\n    </tr>\n    <tr>\n      <th>3</th>\n      <td>32811</td>\n      <td>1434340895</td>\n      <td>discovered</td>\n      <td>17632</td>\n      <td>2015-06-15 04:01:35</td>\n      <td>2015-06-15</td>\n      <td>2015-06</td>\n    </tr>\n    <tr>\n      <th>4</th>\n      <td>32811</td>\n      <td>1434340895</td>\n      <td>viewed</td>\n      <td>17632</td>\n      <td>2015-06-15 04:01:35</td>\n      <td>2015-06-15</td>\n      <td>2015-06</td>\n    </tr>\n  </tbody>\n</table>\n</div>"
     },
     "execution_count": 295,
     "metadata": {},
     "output_type": "execute_result"
    }
   ],
   "source": [
    "# Отберем события пользователей без сертификата:\n",
    "events_of_not_passed_course_users = events_data[events_data['user_id'].isin(not_passed_course_user_ids)]\n",
    "\n",
    "events_of_not_passed_course_users.head()"
   ],
   "metadata": {
    "collapsed": false,
    "pycharm": {
     "name": "#%%\n"
    }
   }
  },
  {
   "cell_type": "code",
   "execution_count": 296,
   "outputs": [
    {
     "data": {
      "text/plain": "         max_break\nuser_id           \n1         53945347\n2          7545845\n3         82191223\n5         33702812\n7          5138151",
      "text/html": "<div>\n<style scoped>\n    .dataframe tbody tr th:only-of-type {\n        vertical-align: middle;\n    }\n\n    .dataframe tbody tr th {\n        vertical-align: top;\n    }\n\n    .dataframe thead th {\n        text-align: right;\n    }\n</style>\n<table border=\"1\" class=\"dataframe\">\n  <thead>\n    <tr style=\"text-align: right;\">\n      <th></th>\n      <th>max_break</th>\n    </tr>\n    <tr>\n      <th>user_id</th>\n      <th></th>\n    </tr>\n  </thead>\n  <tbody>\n    <tr>\n      <th>1</th>\n      <td>53945347</td>\n    </tr>\n    <tr>\n      <th>2</th>\n      <td>7545845</td>\n    </tr>\n    <tr>\n      <th>3</th>\n      <td>82191223</td>\n    </tr>\n    <tr>\n      <th>5</th>\n      <td>33702812</td>\n    </tr>\n    <tr>\n      <th>7</th>\n      <td>5138151</td>\n    </tr>\n  </tbody>\n</table>\n</div>"
     },
     "execution_count": 296,
     "metadata": {},
     "output_type": "execute_result"
    }
   ],
   "source": [
    "# Получим максимальный перерыв между событиями для каждого пользователя без сертификата.\n",
    "# Время от последнего события пользователя до \"сегодняшнего\" момента тоже надо учесть:\n",
    "max_breaks_of_not_passed_course_users = events_of_not_passed_course_users[['user_id', 'timestamp']].groupby('user_id')['timestamp'].apply(list).apply(lambda x: x + [now]).apply(np.diff).apply(np.max).to_frame().rename(columns={'timestamp': 'max_break'})\n",
    "\n",
    "max_breaks_of_not_passed_course_users.head()"
   ],
   "metadata": {
    "collapsed": false,
    "pycharm": {
     "name": "#%%\n"
    }
   }
  },
  {
   "cell_type": "code",
   "execution_count": 297,
   "outputs": [
    {
     "data": {
      "text/plain": "         max_break\nuser_id           \n1              625\n2               88\n3              952\n5              391\n7               60",
      "text/html": "<div>\n<style scoped>\n    .dataframe tbody tr th:only-of-type {\n        vertical-align: middle;\n    }\n\n    .dataframe tbody tr th {\n        vertical-align: top;\n    }\n\n    .dataframe thead th {\n        text-align: right;\n    }\n</style>\n<table border=\"1\" class=\"dataframe\">\n  <thead>\n    <tr style=\"text-align: right;\">\n      <th></th>\n      <th>max_break</th>\n    </tr>\n    <tr>\n      <th>user_id</th>\n      <th></th>\n    </tr>\n  </thead>\n  <tbody>\n    <tr>\n      <th>1</th>\n      <td>625</td>\n    </tr>\n    <tr>\n      <th>2</th>\n      <td>88</td>\n    </tr>\n    <tr>\n      <th>3</th>\n      <td>952</td>\n    </tr>\n    <tr>\n      <th>5</th>\n      <td>391</td>\n    </tr>\n    <tr>\n      <th>7</th>\n      <td>60</td>\n    </tr>\n  </tbody>\n</table>\n</div>"
     },
     "execution_count": 297,
     "metadata": {},
     "output_type": "execute_result"
    }
   ],
   "source": [
    "# Переведем секунды в дни:\n",
    "max_breaks_of_not_passed_course_users['max_break'] =np.ceil(max_breaks_of_not_passed_course_users['max_break'] / (24 * 60 * 60)).map(int)\n",
    "\n",
    "max_breaks_of_not_passed_course_users.head()"
   ],
   "metadata": {
    "collapsed": false,
    "pycharm": {
     "name": "#%%\n"
    }
   }
  },
  {
   "cell_type": "code",
   "execution_count": 298,
   "outputs": [
    {
     "data": {
      "text/plain": "   user_id  passed_steps  passed_course  first_visit  last_visit  max_break\n0        1             0              0   1472827464  1472827464        625\n1        2             9              0   1514383364  1519226966         88\n2        3            87              0   1434358476  1444581588        952\n3        5            11              0   1466156809  1499859939        391\n4        7             1              0   1521634660  1521634660         60",
      "text/html": "<div>\n<style scoped>\n    .dataframe tbody tr th:only-of-type {\n        vertical-align: middle;\n    }\n\n    .dataframe tbody tr th {\n        vertical-align: top;\n    }\n\n    .dataframe thead th {\n        text-align: right;\n    }\n</style>\n<table border=\"1\" class=\"dataframe\">\n  <thead>\n    <tr style=\"text-align: right;\">\n      <th></th>\n      <th>user_id</th>\n      <th>passed_steps</th>\n      <th>passed_course</th>\n      <th>first_visit</th>\n      <th>last_visit</th>\n      <th>max_break</th>\n    </tr>\n  </thead>\n  <tbody>\n    <tr>\n      <th>0</th>\n      <td>1</td>\n      <td>0</td>\n      <td>0</td>\n      <td>1472827464</td>\n      <td>1472827464</td>\n      <td>625</td>\n    </tr>\n    <tr>\n      <th>1</th>\n      <td>2</td>\n      <td>9</td>\n      <td>0</td>\n      <td>1514383364</td>\n      <td>1519226966</td>\n      <td>88</td>\n    </tr>\n    <tr>\n      <th>2</th>\n      <td>3</td>\n      <td>87</td>\n      <td>0</td>\n      <td>1434358476</td>\n      <td>1444581588</td>\n      <td>952</td>\n    </tr>\n    <tr>\n      <th>3</th>\n      <td>5</td>\n      <td>11</td>\n      <td>0</td>\n      <td>1466156809</td>\n      <td>1499859939</td>\n      <td>391</td>\n    </tr>\n    <tr>\n      <th>4</th>\n      <td>7</td>\n      <td>1</td>\n      <td>0</td>\n      <td>1521634660</td>\n      <td>1521634660</td>\n      <td>60</td>\n    </tr>\n  </tbody>\n</table>\n</div>"
     },
     "execution_count": 298,
     "metadata": {},
     "output_type": "execute_result"
    }
   ],
   "source": [
    "# Добавим максимальный перерыв к пользователям без сертификата:\n",
    "not_passed_course_users = not_passed_course_users.merge(max_breaks_of_not_passed_course_users, on='user_id')\n",
    "\n",
    "not_passed_course_users.head()"
   ],
   "metadata": {
    "collapsed": false,
    "pycharm": {
     "name": "#%%\n"
    }
   }
  },
  {
   "cell_type": "code",
   "execution_count": 299,
   "outputs": [
    {
     "data": {
      "text/plain": "0.5321611145441267"
     },
     "execution_count": 299,
     "metadata": {},
     "output_type": "execute_result"
    }
   ],
   "source": [
    "breaks_in_training_threshold =536\n",
    "# Мы потеряем 53.2% пользователей без сертификата если возьмем 99-й персентиль в качестве порога,\n",
    "# т.к. они не закончили курс, но и не бросили его.\n",
    "# Мы потеряем 34.3% пользователей без сертификата если возьмем 95-й персентиль в качестве порога.\n",
    "not_passed_course_users.query('max_break <= @breaks_in_training_threshold').shape[0]/ not_passed_course_users.shape[0]"
   ],
   "metadata": {
    "collapsed": false,
    "pycharm": {
     "name": "#%%\n"
    }
   }
  },
  {
   "cell_type": "code",
   "execution_count": 300,
   "outputs": [],
   "source": [
    "###"
   ],
   "metadata": {
    "collapsed": false,
    "pycharm": {
     "name": "#%%\n"
    }
   }
  },
  {
   "cell_type": "code",
   "execution_count": 301,
   "outputs": [
    {
     "data": {
      "text/plain": "   user_id  passed_steps  passed_course  first_visit  last_visit  max_break\n0        1             0              0   1472827464  1472827464        625\n1        2             9              0   1514383364  1519226966         88\n2        3            87              0   1434358476  1444581588        952\n3        5            11              0   1466156809  1499859939        391\n4        7             1              0   1521634660  1521634660         60",
      "text/html": "<div>\n<style scoped>\n    .dataframe tbody tr th:only-of-type {\n        vertical-align: middle;\n    }\n\n    .dataframe tbody tr th {\n        vertical-align: top;\n    }\n\n    .dataframe thead th {\n        text-align: right;\n    }\n</style>\n<table border=\"1\" class=\"dataframe\">\n  <thead>\n    <tr style=\"text-align: right;\">\n      <th></th>\n      <th>user_id</th>\n      <th>passed_steps</th>\n      <th>passed_course</th>\n      <th>first_visit</th>\n      <th>last_visit</th>\n      <th>max_break</th>\n    </tr>\n  </thead>\n  <tbody>\n    <tr>\n      <th>0</th>\n      <td>1</td>\n      <td>0</td>\n      <td>0</td>\n      <td>1472827464</td>\n      <td>1472827464</td>\n      <td>625</td>\n    </tr>\n    <tr>\n      <th>1</th>\n      <td>2</td>\n      <td>9</td>\n      <td>0</td>\n      <td>1514383364</td>\n      <td>1519226966</td>\n      <td>88</td>\n    </tr>\n    <tr>\n      <th>2</th>\n      <td>3</td>\n      <td>87</td>\n      <td>0</td>\n      <td>1434358476</td>\n      <td>1444581588</td>\n      <td>952</td>\n    </tr>\n    <tr>\n      <th>3</th>\n      <td>5</td>\n      <td>11</td>\n      <td>0</td>\n      <td>1466156809</td>\n      <td>1499859939</td>\n      <td>391</td>\n    </tr>\n    <tr>\n      <th>4</th>\n      <td>7</td>\n      <td>1</td>\n      <td>0</td>\n      <td>1521634660</td>\n      <td>1521634660</td>\n      <td>60</td>\n    </tr>\n  </tbody>\n</table>\n</div>"
     },
     "execution_count": 301,
     "metadata": {},
     "output_type": "execute_result"
    }
   ],
   "source": [
    "# Добавим ко всем пользователям максимальный перерыв:\n",
    "users = users.merge(pd.concat([max_breaks_of_passed_course_users, max_breaks_of_not_passed_course_users]),on='user_id')\n",
    "\n",
    "users.head()"
   ],
   "metadata": {
    "collapsed": false,
    "pycharm": {
     "name": "#%%\n"
    }
   }
  },
  {
   "cell_type": "code",
   "execution_count": 302,
   "outputs": [
    {
     "data": {
      "text/plain": "   user_id  passed_steps  passed_course  first_visit  last_visit  max_break  \\\n0        1             0              0   1472827464  1472827464        625   \n1        2             9              0   1514383364  1519226966         88   \n2        3            87              0   1434358476  1444581588        952   \n3        5            11              0   1466156809  1499859939        391   \n4        7             1              0   1521634660  1521634660         60   \n\n   is_gone  \n0        1  \n1        0  \n2        1  \n3        0  \n4        0  ",
      "text/html": "<div>\n<style scoped>\n    .dataframe tbody tr th:only-of-type {\n        vertical-align: middle;\n    }\n\n    .dataframe tbody tr th {\n        vertical-align: top;\n    }\n\n    .dataframe thead th {\n        text-align: right;\n    }\n</style>\n<table border=\"1\" class=\"dataframe\">\n  <thead>\n    <tr style=\"text-align: right;\">\n      <th></th>\n      <th>user_id</th>\n      <th>passed_steps</th>\n      <th>passed_course</th>\n      <th>first_visit</th>\n      <th>last_visit</th>\n      <th>max_break</th>\n      <th>is_gone</th>\n    </tr>\n  </thead>\n  <tbody>\n    <tr>\n      <th>0</th>\n      <td>1</td>\n      <td>0</td>\n      <td>0</td>\n      <td>1472827464</td>\n      <td>1472827464</td>\n      <td>625</td>\n      <td>1</td>\n    </tr>\n    <tr>\n      <th>1</th>\n      <td>2</td>\n      <td>9</td>\n      <td>0</td>\n      <td>1514383364</td>\n      <td>1519226966</td>\n      <td>88</td>\n      <td>0</td>\n    </tr>\n    <tr>\n      <th>2</th>\n      <td>3</td>\n      <td>87</td>\n      <td>0</td>\n      <td>1434358476</td>\n      <td>1444581588</td>\n      <td>952</td>\n      <td>1</td>\n    </tr>\n    <tr>\n      <th>3</th>\n      <td>5</td>\n      <td>11</td>\n      <td>0</td>\n      <td>1466156809</td>\n      <td>1499859939</td>\n      <td>391</td>\n      <td>0</td>\n    </tr>\n    <tr>\n      <th>4</th>\n      <td>7</td>\n      <td>1</td>\n      <td>0</td>\n      <td>1521634660</td>\n      <td>1521634660</td>\n      <td>60</td>\n      <td>0</td>\n    </tr>\n  </tbody>\n</table>\n</div>"
     },
     "execution_count": 302,
     "metadata": {},
     "output_type": "execute_result"
    }
   ],
   "source": [
    "# Отметим покинувших курс пользователей:\n",
    "users['is_gone'] = 0\n",
    "users.loc[(users['passed_course'] == 0) & (users['max_break'] > breaks_in_training_threshold), 'is_gone'] = 1\n",
    "\n",
    "users.head()"
   ],
   "metadata": {
    "collapsed": false,
    "pycharm": {
     "name": "#%%\n"
    }
   }
  },
  {
   "cell_type": "code",
   "execution_count": 303,
   "outputs": [
    {
     "data": {
      "text/plain": "passed_course  is_gone\n0              0          9473\n               1          8328\n1              0          1433\nName: user_id, dtype: int64"
     },
     "execution_count": 303,
     "metadata": {},
     "output_type": "execute_result"
    }
   ],
   "source": [
    "# Посмотрим комбинации количества учащихся, прошедших курс и покинувших курс:\n",
    "users.groupby(['passed_course', 'is_gone'])['user_id'].count()"
   ],
   "metadata": {
    "collapsed": false,
    "pycharm": {
     "name": "#%%\n"
    }
   }
  },
  {
   "cell_type": "code",
   "execution_count": 304,
   "outputs": [
    {
     "data": {
      "text/plain": "       user_id  passed_steps  passed_course  first_visit  last_visit  \\\n0            1             0              0   1472827464  1472827464   \n2            3            87              0   1434358476  1444581588   \n8           14             3              0   1436366155  1436368676   \n9           16           196              1   1435674765  1513162585   \n10          17             5              0   1465762612  1465765342   \n...        ...           ...            ...          ...         ...   \n19220    26779           196              1   1473155734  1520157100   \n19221    26781           198              1   1487693786  1507540704   \n19223    26783            10              0   1434542952  1434543274   \n19228    26789             2              0   1447263411  1447263419   \n19229    26790             8              0   1451484016  1517495987   \n\n       max_break  is_gone  \n0            625        1  \n2            952        1  \n8           1047        1  \n9            708        0  \n10           707        1  \n...          ...      ...  \n19220          8        0  \n19221         20        0  \n19223       1068        1  \n19228        921        1  \n19229        751        1  \n\n[9761 rows x 7 columns]",
      "text/html": "<div>\n<style scoped>\n    .dataframe tbody tr th:only-of-type {\n        vertical-align: middle;\n    }\n\n    .dataframe tbody tr th {\n        vertical-align: top;\n    }\n\n    .dataframe thead th {\n        text-align: right;\n    }\n</style>\n<table border=\"1\" class=\"dataframe\">\n  <thead>\n    <tr style=\"text-align: right;\">\n      <th></th>\n      <th>user_id</th>\n      <th>passed_steps</th>\n      <th>passed_course</th>\n      <th>first_visit</th>\n      <th>last_visit</th>\n      <th>max_break</th>\n      <th>is_gone</th>\n    </tr>\n  </thead>\n  <tbody>\n    <tr>\n      <th>0</th>\n      <td>1</td>\n      <td>0</td>\n      <td>0</td>\n      <td>1472827464</td>\n      <td>1472827464</td>\n      <td>625</td>\n      <td>1</td>\n    </tr>\n    <tr>\n      <th>2</th>\n      <td>3</td>\n      <td>87</td>\n      <td>0</td>\n      <td>1434358476</td>\n      <td>1444581588</td>\n      <td>952</td>\n      <td>1</td>\n    </tr>\n    <tr>\n      <th>8</th>\n      <td>14</td>\n      <td>3</td>\n      <td>0</td>\n      <td>1436366155</td>\n      <td>1436368676</td>\n      <td>1047</td>\n      <td>1</td>\n    </tr>\n    <tr>\n      <th>9</th>\n      <td>16</td>\n      <td>196</td>\n      <td>1</td>\n      <td>1435674765</td>\n      <td>1513162585</td>\n      <td>708</td>\n      <td>0</td>\n    </tr>\n    <tr>\n      <th>10</th>\n      <td>17</td>\n      <td>5</td>\n      <td>0</td>\n      <td>1465762612</td>\n      <td>1465765342</td>\n      <td>707</td>\n      <td>1</td>\n    </tr>\n    <tr>\n      <th>...</th>\n      <td>...</td>\n      <td>...</td>\n      <td>...</td>\n      <td>...</td>\n      <td>...</td>\n      <td>...</td>\n      <td>...</td>\n    </tr>\n    <tr>\n      <th>19220</th>\n      <td>26779</td>\n      <td>196</td>\n      <td>1</td>\n      <td>1473155734</td>\n      <td>1520157100</td>\n      <td>8</td>\n      <td>0</td>\n    </tr>\n    <tr>\n      <th>19221</th>\n      <td>26781</td>\n      <td>198</td>\n      <td>1</td>\n      <td>1487693786</td>\n      <td>1507540704</td>\n      <td>20</td>\n      <td>0</td>\n    </tr>\n    <tr>\n      <th>19223</th>\n      <td>26783</td>\n      <td>10</td>\n      <td>0</td>\n      <td>1434542952</td>\n      <td>1434543274</td>\n      <td>1068</td>\n      <td>1</td>\n    </tr>\n    <tr>\n      <th>19228</th>\n      <td>26789</td>\n      <td>2</td>\n      <td>0</td>\n      <td>1447263411</td>\n      <td>1447263419</td>\n      <td>921</td>\n      <td>1</td>\n    </tr>\n    <tr>\n      <th>19229</th>\n      <td>26790</td>\n      <td>8</td>\n      <td>0</td>\n      <td>1451484016</td>\n      <td>1517495987</td>\n      <td>751</td>\n      <td>1</td>\n    </tr>\n  </tbody>\n</table>\n<p>9761 rows × 7 columns</p>\n</div>"
     },
     "execution_count": 304,
     "metadata": {},
     "output_type": "execute_result"
    }
   ],
   "source": [
    "# Удалим пользователей в \"неопределенном\" статусе, которые и не прошли курс, и не успели его бросить:\n",
    "users = users[(users['is_gone'] == True) | (users['passed_course'] == True)]\n",
    "users"
   ],
   "metadata": {
    "collapsed": false,
    "pycharm": {
     "name": "#%%\n"
    }
   }
  },
  {
   "cell_type": "code",
   "execution_count": 305,
   "outputs": [
    {
     "data": {
      "text/plain": "0    0.853191\n1    0.146809\nName: passed_course, dtype: float64"
     },
     "execution_count": 305,
     "metadata": {},
     "output_type": "execute_result"
    }
   ],
   "source": [
    "# Мы удалили из выборки 9473 пользователя, поэтому изменился дисбаланс классов.\n",
    "# Процентное соотношение прошедших и непрошедших курс:\n",
    "users['passed_course'].value_counts(normalize=True)\n",
    "\n",
    "# А было соотношение 92.5 на 7.5"
   ],
   "metadata": {
    "collapsed": false,
    "pycharm": {
     "name": "#%%\n"
    }
   }
  },
  {
   "cell_type": "code",
   "execution_count": 306,
   "outputs": [
    {
     "data": {
      "text/plain": "       user_id  passed_steps  first_visit  last_visit  max_break  is_gone\n0            1             0   1472827464  1472827464        625        1\n2            3            87   1434358476  1444581588        952        1\n8           14             3   1436366155  1436368676       1047        1\n9           16           196   1435674765  1513162585        708        0\n10          17             5   1465762612  1465765342        707        1\n...        ...           ...          ...         ...        ...      ...\n19220    26779           196   1473155734  1520157100          8        0\n19221    26781           198   1487693786  1507540704         20        0\n19223    26783            10   1434542952  1434543274       1068        1\n19228    26789             2   1447263411  1447263419        921        1\n19229    26790             8   1451484016  1517495987        751        1\n\n[9761 rows x 6 columns]",
      "text/html": "<div>\n<style scoped>\n    .dataframe tbody tr th:only-of-type {\n        vertical-align: middle;\n    }\n\n    .dataframe tbody tr th {\n        vertical-align: top;\n    }\n\n    .dataframe thead th {\n        text-align: right;\n    }\n</style>\n<table border=\"1\" class=\"dataframe\">\n  <thead>\n    <tr style=\"text-align: right;\">\n      <th></th>\n      <th>user_id</th>\n      <th>passed_steps</th>\n      <th>first_visit</th>\n      <th>last_visit</th>\n      <th>max_break</th>\n      <th>is_gone</th>\n    </tr>\n  </thead>\n  <tbody>\n    <tr>\n      <th>0</th>\n      <td>1</td>\n      <td>0</td>\n      <td>1472827464</td>\n      <td>1472827464</td>\n      <td>625</td>\n      <td>1</td>\n    </tr>\n    <tr>\n      <th>2</th>\n      <td>3</td>\n      <td>87</td>\n      <td>1434358476</td>\n      <td>1444581588</td>\n      <td>952</td>\n      <td>1</td>\n    </tr>\n    <tr>\n      <th>8</th>\n      <td>14</td>\n      <td>3</td>\n      <td>1436366155</td>\n      <td>1436368676</td>\n      <td>1047</td>\n      <td>1</td>\n    </tr>\n    <tr>\n      <th>9</th>\n      <td>16</td>\n      <td>196</td>\n      <td>1435674765</td>\n      <td>1513162585</td>\n      <td>708</td>\n      <td>0</td>\n    </tr>\n    <tr>\n      <th>10</th>\n      <td>17</td>\n      <td>5</td>\n      <td>1465762612</td>\n      <td>1465765342</td>\n      <td>707</td>\n      <td>1</td>\n    </tr>\n    <tr>\n      <th>...</th>\n      <td>...</td>\n      <td>...</td>\n      <td>...</td>\n      <td>...</td>\n      <td>...</td>\n      <td>...</td>\n    </tr>\n    <tr>\n      <th>19220</th>\n      <td>26779</td>\n      <td>196</td>\n      <td>1473155734</td>\n      <td>1520157100</td>\n      <td>8</td>\n      <td>0</td>\n    </tr>\n    <tr>\n      <th>19221</th>\n      <td>26781</td>\n      <td>198</td>\n      <td>1487693786</td>\n      <td>1507540704</td>\n      <td>20</td>\n      <td>0</td>\n    </tr>\n    <tr>\n      <th>19223</th>\n      <td>26783</td>\n      <td>10</td>\n      <td>1434542952</td>\n      <td>1434543274</td>\n      <td>1068</td>\n      <td>1</td>\n    </tr>\n    <tr>\n      <th>19228</th>\n      <td>26789</td>\n      <td>2</td>\n      <td>1447263411</td>\n      <td>1447263419</td>\n      <td>921</td>\n      <td>1</td>\n    </tr>\n    <tr>\n      <th>19229</th>\n      <td>26790</td>\n      <td>8</td>\n      <td>1451484016</td>\n      <td>1517495987</td>\n      <td>751</td>\n      <td>1</td>\n    </tr>\n  </tbody>\n</table>\n<p>9761 rows × 6 columns</p>\n</div>"
     },
     "execution_count": 306,
     "metadata": {},
     "output_type": "execute_result"
    }
   ],
   "source": [
    "# Колонка \"is_gone\" - полная противоположность колонки \"passed_course\".\n",
    "# Будем предсказывать именно ушедщих с курса:\n",
    "users = users.drop('passed_course', axis=1)\n",
    "users"
   ],
   "metadata": {
    "collapsed": false,
    "pycharm": {
     "name": "#%%\n"
    }
   }
  },
  {
   "cell_type": "code",
   "execution_count": 307,
   "outputs": [
    {
     "data": {
      "text/plain": "<AxesSubplot:xlabel='is_gone', ylabel='count'>"
     },
     "execution_count": 307,
     "metadata": {},
     "output_type": "execute_result"
    },
    {
     "data": {
      "text/plain": "<Figure size 648x432 with 1 Axes>",
      "image/png": "[encoded data removed]"
     },
     "metadata": {},
     "output_type": "display_data"
    }
   ],
   "source": [
    "# Визуализируем:\n",
    "sns.countplot(x='is_gone', data=users, palette='hls')"
   ],
   "metadata": {
    "collapsed": false,
    "pycharm": {
     "name": "#%%\n"
    }
   }
  },
  {
   "cell_type": "code",
   "execution_count": 308,
   "outputs": [],
   "source": [
    "###"
   ],
   "metadata": {
    "collapsed": false,
    "pycharm": {
     "name": "#%%\n"
    }
   }
  },
  {
   "cell_type": "code",
   "execution_count": 309,
   "outputs": [],
   "source": [
    "# Нужно предсказать, что пользователь покинет курс как можно раньше, пока он еще здесь.\n",
    "# Правда ли, что по поведению пользователя на курсе за первую неделю (или несколько дней)\n",
    "# можно предсказать закончит он курс или нет?\n",
    "\n",
    "# Попробуем порог в 3 дня:\n",
    "\n",
    "learning_time_threshold = 2 * 24 * 60 * 60\n",
    "\n",
    "# Спойлер - чем больше дней - тем лучше предсказывают модели."
   ],
   "metadata": {
    "collapsed": false,
    "pycharm": {
     "name": "#%%\n"
    }
   }
  },
  {
   "cell_type": "code",
   "execution_count": 310,
   "outputs": [],
   "source": [
    "# Узнаем время первого захода на курс:\n",
    "first_visits = events_data.groupby('user_id').timestamp.min().to_frame().rename(columns={'timestamp': 'first_visit'})"
   ],
   "metadata": {
    "collapsed": false,
    "pycharm": {
     "name": "#%%\n"
    }
   }
  },
  {
   "cell_type": "code",
   "execution_count": 311,
   "outputs": [
    {
     "data": {
      "text/plain": "         step_id   timestamp           action  user_id                date  \\\n0          32815  1434341931           passed    12494 2015-06-15 04:18:51   \n1          32815  1434341931       discovered    12494 2015-06-15 04:18:51   \n2          32815  1434341931           viewed    12494 2015-06-15 04:18:51   \n3          32811  1434341937           viewed    12494 2015-06-15 04:18:57   \n4          32811  1434341937           passed    12494 2015-06-15 04:18:57   \n...          ...         ...              ...      ...                 ...   \n2191543    33415  1525125184           viewed     5573 2018-04-30 21:53:04   \n2191544    33415  1525126412           passed     5573 2018-04-30 22:13:32   \n2191545    33418  1525126505       discovered     5573 2018-04-30 22:15:05   \n2191546    33418  1525126505  started_attempt     5573 2018-04-30 22:15:05   \n2191547    33418  1525126505           viewed     5573 2018-04-30 22:15:05   \n\n                day    month  first_visit  \n0        2015-06-15  2015-06   1434341931  \n1        2015-06-15  2015-06   1434341931  \n2        2015-06-15  2015-06   1434341931  \n3        2015-06-15  2015-06   1434341931  \n4        2015-06-15  2015-06   1434341931  \n...             ...      ...          ...  \n2191543  2018-04-30  2018-04   1524955364  \n2191544  2018-04-30  2018-04   1524955364  \n2191545  2018-04-30  2018-04   1524955364  \n2191546  2018-04-30  2018-04   1524955364  \n2191547  2018-04-30  2018-04   1524955364  \n\n[467715 rows x 8 columns]",
      "text/html": "<div>\n<style scoped>\n    .dataframe tbody tr th:only-of-type {\n        vertical-align: middle;\n    }\n\n    .dataframe tbody tr th {\n        vertical-align: top;\n    }\n\n    .dataframe thead th {\n        text-align: right;\n    }\n</style>\n<table border=\"1\" class=\"dataframe\">\n  <thead>\n    <tr style=\"text-align: right;\">\n      <th></th>\n      <th>step_id</th>\n      <th>timestamp</th>\n      <th>action</th>\n      <th>user_id</th>\n      <th>date</th>\n      <th>day</th>\n      <th>month</th>\n      <th>first_visit</th>\n    </tr>\n  </thead>\n  <tbody>\n    <tr>\n      <th>0</th>\n      <td>32815</td>\n      <td>1434341931</td>\n      <td>passed</td>\n      <td>12494</td>\n      <td>2015-06-15 04:18:51</td>\n      <td>2015-06-15</td>\n      <td>2015-06</td>\n      <td>1434341931</td>\n    </tr>\n    <tr>\n      <th>1</th>\n      <td>32815</td>\n      <td>1434341931</td>\n      <td>discovered</td>\n      <td>12494</td>\n      <td>2015-06-15 04:18:51</td>\n      <td>2015-06-15</td>\n      <td>2015-06</td>\n      <td>1434341931</td>\n    </tr>\n    <tr>\n      <th>2</th>\n      <td>32815</td>\n      <td>1434341931</td>\n      <td>viewed</td>\n      <td>12494</td>\n      <td>2015-06-15 04:18:51</td>\n      <td>2015-06-15</td>\n      <td>2015-06</td>\n      <td>1434341931</td>\n    </tr>\n    <tr>\n      <th>3</th>\n      <td>32811</td>\n      <td>1434341937</td>\n      <td>viewed</td>\n      <td>12494</td>\n      <td>2015-06-15 04:18:57</td>\n      <td>2015-06-15</td>\n      <td>2015-06</td>\n      <td>1434341931</td>\n    </tr>\n    <tr>\n      <th>4</th>\n      <td>32811</td>\n      <td>1434341937</td>\n      <td>passed</td>\n      <td>12494</td>\n      <td>2015-06-15 04:18:57</td>\n      <td>2015-06-15</td>\n      <td>2015-06</td>\n      <td>1434341931</td>\n    </tr>\n    <tr>\n      <th>...</th>\n      <td>...</td>\n      <td>...</td>\n      <td>...</td>\n      <td>...</td>\n      <td>...</td>\n      <td>...</td>\n      <td>...</td>\n      <td>...</td>\n    </tr>\n    <tr>\n      <th>2191543</th>\n      <td>33415</td>\n      <td>1525125184</td>\n      <td>viewed</td>\n      <td>5573</td>\n      <td>2018-04-30 21:53:04</td>\n      <td>2018-04-30</td>\n      <td>2018-04</td>\n      <td>1524955364</td>\n    </tr>\n    <tr>\n      <th>2191544</th>\n      <td>33415</td>\n      <td>1525126412</td>\n      <td>passed</td>\n      <td>5573</td>\n      <td>2018-04-30 22:13:32</td>\n      <td>2018-04-30</td>\n      <td>2018-04</td>\n      <td>1524955364</td>\n    </tr>\n    <tr>\n      <th>2191545</th>\n      <td>33418</td>\n      <td>1525126505</td>\n      <td>discovered</td>\n      <td>5573</td>\n      <td>2018-04-30 22:15:05</td>\n      <td>2018-04-30</td>\n      <td>2018-04</td>\n      <td>1524955364</td>\n    </tr>\n    <tr>\n      <th>2191546</th>\n      <td>33418</td>\n      <td>1525126505</td>\n      <td>started_attempt</td>\n      <td>5573</td>\n      <td>2018-04-30 22:15:05</td>\n      <td>2018-04-30</td>\n      <td>2018-04</td>\n      <td>1524955364</td>\n    </tr>\n    <tr>\n      <th>2191547</th>\n      <td>33418</td>\n      <td>1525126505</td>\n      <td>viewed</td>\n      <td>5573</td>\n      <td>2018-04-30 22:15:05</td>\n      <td>2018-04-30</td>\n      <td>2018-04</td>\n      <td>1524955364</td>\n    </tr>\n  </tbody>\n</table>\n<p>467715 rows × 8 columns</p>\n</div>"
     },
     "execution_count": 311,
     "metadata": {},
     "output_type": "execute_result"
    }
   ],
   "source": [
    "# Для каждого пользователя отберем события, которые с ним происходили в течение первых 3 дней:\n",
    "events_train = events_data[events_data['user_id'].isin(users['user_id'])]\n",
    "events_train = events_train.merge(first_visits, on='user_id')\n",
    "events_train = events_train.query(\"timestamp - first_visit <= @learning_time_threshold\")\n",
    "events_train"
   ],
   "metadata": {
    "collapsed": false,
    "pycharm": {
     "name": "#%%\n"
    }
   }
  },
  {
   "cell_type": "code",
   "execution_count": 312,
   "outputs": [
    {
     "data": {
      "text/plain": "3"
     },
     "execution_count": 312,
     "metadata": {},
     "output_type": "execute_result"
    }
   ],
   "source": [
    "# Проверим, что данные действительно за 3 дня:\n",
    "events_train.groupby('user_id').day.nunique().max()"
   ],
   "metadata": {
    "collapsed": false,
    "pycharm": {
     "name": "#%%\n"
    }
   }
  },
  {
   "cell_type": "code",
   "execution_count": 313,
   "outputs": [
    {
     "data": {
      "text/plain": "        step_id   timestamp submission_status  user_id                date  \\\n0         31971  1434349275           correct    15853 2015-06-15 06:21:15   \n1         31972  1434348300           correct    15853 2015-06-15 06:05:00   \n4         31976  1434348123             wrong    15853 2015-06-15 06:02:03   \n5         31976  1434348188           correct    15853 2015-06-15 06:03:08   \n7         31977  1434347371           correct    15853 2015-06-15 05:49:31   \n...         ...         ...               ...      ...                 ...   \n330465   120745  1476419925             wrong    10312 2016-10-14 04:38:45   \n330466   120745  1476419953           correct    10312 2016-10-14 04:39:13   \n330467   120745  1476767714           correct    21817 2016-10-18 05:15:14   \n330470   120745  1478563508           correct    26766 2016-11-08 00:05:08   \n330471   120745  1479636345           correct    23697 2016-11-20 10:05:45   \n\n               day  first_visit  \n0       2015-06-15   1434345977  \n1       2015-06-15   1434345977  \n4       2015-06-15   1434345977  \n5       2015-06-15   1434345977  \n7       2015-06-15   1434345977  \n...            ...          ...  \n330465  2016-10-14   1476417044  \n330466  2016-10-14   1476417044  \n330467  2016-10-18   1476767576  \n330470  2016-11-08   1478561209  \n330471  2016-11-20   1479633822  \n\n[60697 rows x 7 columns]",
      "text/html": "<div>\n<style scoped>\n    .dataframe tbody tr th:only-of-type {\n        vertical-align: middle;\n    }\n\n    .dataframe tbody tr th {\n        vertical-align: top;\n    }\n\n    .dataframe thead th {\n        text-align: right;\n    }\n</style>\n<table border=\"1\" class=\"dataframe\">\n  <thead>\n    <tr style=\"text-align: right;\">\n      <th></th>\n      <th>step_id</th>\n      <th>timestamp</th>\n      <th>submission_status</th>\n      <th>user_id</th>\n      <th>date</th>\n      <th>day</th>\n      <th>first_visit</th>\n    </tr>\n  </thead>\n  <tbody>\n    <tr>\n      <th>0</th>\n      <td>31971</td>\n      <td>1434349275</td>\n      <td>correct</td>\n      <td>15853</td>\n      <td>2015-06-15 06:21:15</td>\n      <td>2015-06-15</td>\n      <td>1434345977</td>\n    </tr>\n    <tr>\n      <th>1</th>\n      <td>31972</td>\n      <td>1434348300</td>\n      <td>correct</td>\n      <td>15853</td>\n      <td>2015-06-15 06:05:00</td>\n      <td>2015-06-15</td>\n      <td>1434345977</td>\n    </tr>\n    <tr>\n      <th>4</th>\n      <td>31976</td>\n      <td>1434348123</td>\n      <td>wrong</td>\n      <td>15853</td>\n      <td>2015-06-15 06:02:03</td>\n      <td>2015-06-15</td>\n      <td>1434345977</td>\n    </tr>\n    <tr>\n      <th>5</th>\n      <td>31976</td>\n      <td>1434348188</td>\n      <td>correct</td>\n      <td>15853</td>\n      <td>2015-06-15 06:03:08</td>\n      <td>2015-06-15</td>\n      <td>1434345977</td>\n    </tr>\n    <tr>\n      <th>7</th>\n      <td>31977</td>\n      <td>1434347371</td>\n      <td>correct</td>\n      <td>15853</td>\n      <td>2015-06-15 05:49:31</td>\n      <td>2015-06-15</td>\n      <td>1434345977</td>\n    </tr>\n    <tr>\n      <th>...</th>\n      <td>...</td>\n      <td>...</td>\n      <td>...</td>\n      <td>...</td>\n      <td>...</td>\n      <td>...</td>\n      <td>...</td>\n    </tr>\n    <tr>\n      <th>330465</th>\n      <td>120745</td>\n      <td>1476419925</td>\n      <td>wrong</td>\n      <td>10312</td>\n      <td>2016-10-14 04:38:45</td>\n      <td>2016-10-14</td>\n      <td>1476417044</td>\n    </tr>\n    <tr>\n      <th>330466</th>\n      <td>120745</td>\n      <td>1476419953</td>\n      <td>correct</td>\n      <td>10312</td>\n      <td>2016-10-14 04:39:13</td>\n      <td>2016-10-14</td>\n      <td>1476417044</td>\n    </tr>\n    <tr>\n      <th>330467</th>\n      <td>120745</td>\n      <td>1476767714</td>\n      <td>correct</td>\n      <td>21817</td>\n      <td>2016-10-18 05:15:14</td>\n      <td>2016-10-18</td>\n      <td>1476767576</td>\n    </tr>\n    <tr>\n      <th>330470</th>\n      <td>120745</td>\n      <td>1478563508</td>\n      <td>correct</td>\n      <td>26766</td>\n      <td>2016-11-08 00:05:08</td>\n      <td>2016-11-08</td>\n      <td>1478561209</td>\n    </tr>\n    <tr>\n      <th>330471</th>\n      <td>120745</td>\n      <td>1479636345</td>\n      <td>correct</td>\n      <td>23697</td>\n      <td>2016-11-20 10:05:45</td>\n      <td>2016-11-20</td>\n      <td>1479633822</td>\n    </tr>\n  </tbody>\n</table>\n<p>60697 rows × 7 columns</p>\n</div>"
     },
     "execution_count": 313,
     "metadata": {},
     "output_type": "execute_result"
    }
   ],
   "source": [
    "# Для каждого пользователя отберем сабмиты, которые они отправляли в течение первых 3 дней:\n",
    "submissions_train = submissions_data[submissions_data['user_id'].isin(users['user_id'])]\n",
    "submissions_train = submissions_train.merge(first_visits, on='user_id')\n",
    "submissions_train = submissions_train.query('timestamp - first_visit <= @learning_time_threshold')\n",
    "submissions_train"
   ],
   "metadata": {
    "collapsed": false,
    "pycharm": {
     "name": "#%%\n"
    }
   }
  },
  {
   "cell_type": "code",
   "execution_count": 314,
   "outputs": [
    {
     "data": {
      "text/plain": "3"
     },
     "execution_count": 314,
     "metadata": {},
     "output_type": "execute_result"
    }
   ],
   "source": [
    "# Проверим, что данные действительно за 3 дня:\n",
    "submissions_train.groupby('user_id').day.nunique().max()"
   ],
   "metadata": {
    "collapsed": false,
    "pycharm": {
     "name": "#%%\n"
    }
   }
  },
  {
   "cell_type": "code",
   "execution_count": 315,
   "outputs": [
    {
     "data": {
      "text/plain": "      user_id  is_gone  days_of_training  tasks_tried  correct  wrong  viewed\n0           1        1               NaN          NaN      NaN    NaN       1\n1           3        1               8.0          4.0      4.0    4.0      20\n2          14        1               1.0          1.0      0.0    1.0       9\n3          16        0              41.0         18.0     18.0   23.0     117\n4          17        1               2.0          1.0      0.0    2.0      13\n...       ...      ...               ...          ...      ...    ...     ...\n9756    26779        0               2.0          2.0      2.0    0.0      14\n9757    26781        0               NaN          NaN      NaN    NaN       6\n9758    26783        1               2.0          2.0      2.0    0.0      20\n9759    26789        1               NaN          NaN      NaN    NaN       2\n9760    26790        1               NaN          NaN      NaN    NaN       2\n\n[9761 rows x 7 columns]",
      "text/html": "<div>\n<style scoped>\n    .dataframe tbody tr th:only-of-type {\n        vertical-align: middle;\n    }\n\n    .dataframe tbody tr th {\n        vertical-align: top;\n    }\n\n    .dataframe thead th {\n        text-align: right;\n    }\n</style>\n<table border=\"1\" class=\"dataframe\">\n  <thead>\n    <tr style=\"text-align: right;\">\n      <th></th>\n      <th>user_id</th>\n      <th>is_gone</th>\n      <th>days_of_training</th>\n      <th>tasks_tried</th>\n      <th>correct</th>\n      <th>wrong</th>\n      <th>viewed</th>\n    </tr>\n  </thead>\n  <tbody>\n    <tr>\n      <th>0</th>\n      <td>1</td>\n      <td>1</td>\n      <td>NaN</td>\n      <td>NaN</td>\n      <td>NaN</td>\n      <td>NaN</td>\n      <td>1</td>\n    </tr>\n    <tr>\n      <th>1</th>\n      <td>3</td>\n      <td>1</td>\n      <td>8.0</td>\n      <td>4.0</td>\n      <td>4.0</td>\n      <td>4.0</td>\n      <td>20</td>\n    </tr>\n    <tr>\n      <th>2</th>\n      <td>14</td>\n      <td>1</td>\n      <td>1.0</td>\n      <td>1.0</td>\n      <td>0.0</td>\n      <td>1.0</td>\n      <td>9</td>\n    </tr>\n    <tr>\n      <th>3</th>\n      <td>16</td>\n      <td>0</td>\n      <td>41.0</td>\n      <td>18.0</td>\n      <td>18.0</td>\n      <td>23.0</td>\n      <td>117</td>\n    </tr>\n    <tr>\n      <th>4</th>\n      <td>17</td>\n      <td>1</td>\n      <td>2.0</td>\n      <td>1.0</td>\n      <td>0.0</td>\n      <td>2.0</td>\n      <td>13</td>\n    </tr>\n    <tr>\n      <th>...</th>\n      <td>...</td>\n      <td>...</td>\n      <td>...</td>\n      <td>...</td>\n      <td>...</td>\n      <td>...</td>\n      <td>...</td>\n    </tr>\n    <tr>\n      <th>9756</th>\n      <td>26779</td>\n      <td>0</td>\n      <td>2.0</td>\n      <td>2.0</td>\n      <td>2.0</td>\n      <td>0.0</td>\n      <td>14</td>\n    </tr>\n    <tr>\n      <th>9757</th>\n      <td>26781</td>\n      <td>0</td>\n      <td>NaN</td>\n      <td>NaN</td>\n      <td>NaN</td>\n      <td>NaN</td>\n      <td>6</td>\n    </tr>\n    <tr>\n      <th>9758</th>\n      <td>26783</td>\n      <td>1</td>\n      <td>2.0</td>\n      <td>2.0</td>\n      <td>2.0</td>\n      <td>0.0</td>\n      <td>20</td>\n    </tr>\n    <tr>\n      <th>9759</th>\n      <td>26789</td>\n      <td>1</td>\n      <td>NaN</td>\n      <td>NaN</td>\n      <td>NaN</td>\n      <td>NaN</td>\n      <td>2</td>\n    </tr>\n    <tr>\n      <th>9760</th>\n      <td>26790</td>\n      <td>1</td>\n      <td>NaN</td>\n      <td>NaN</td>\n      <td>NaN</td>\n      <td>NaN</td>\n      <td>2</td>\n    </tr>\n  </tbody>\n</table>\n<p>9761 rows × 7 columns</p>\n</div>"
     },
     "execution_count": 315,
     "metadata": {},
     "output_type": "execute_result"
    }
   ],
   "source": [
    "# Соберем X:\n",
    "X = users[['user_id','is_gone']]\n",
    "\n",
    "# Посчитаем количество уникальных дней, в которые пользователь решал задачи:\n",
    "days_of_training = submissions_train.groupby('user_id').date.nunique().to_frame().rename(columns={'date': 'days_of_training'})\n",
    "\n",
    "# Посчитаем количество задач, которые пользователь попробовал решить:\n",
    "steps_tried = submissions_train.groupby('user_id').step_id.nunique().to_frame().rename(columns={'step_id': 'tasks_tried'})\n",
    "\n",
    "# Посчитаем количество правильных и неправильных ответов:\n",
    "submission_statuses = submissions_train.pivot_table(\n",
    "    index='user_id', columns='submission_status', values='step_id', aggfunc='count', fill_value=0\n",
    ")\n",
    "\n",
    "# Посчитаем количество просмотренных шагов:\n",
    "viewed = events_train.pivot_table(\n",
    "    index='user_id', columns='action', values='step_id', aggfunc='count', fill_value=0\n",
    ").reset_index().rename_axis('', axis=1)[['user_id', 'viewed']]\n",
    "\n",
    "X = X.merge(days_of_training, on='user_id', how='outer')\n",
    "X = X.merge(steps_tried, on='user_id', how='outer')\n",
    "X = X.merge(submission_statuses, on='user_id', how='outer')\n",
    "X = X.merge(viewed, on='user_id')\n",
    "X"
   ],
   "metadata": {
    "collapsed": false,
    "pycharm": {
     "name": "#%%\n"
    }
   }
  },
  {
   "cell_type": "code",
   "execution_count": 316,
   "outputs": [
    {
     "data": {
      "text/plain": "         is_gone  days_of_training  tasks_tried  correct  wrong  viewed  \\\nuser_id                                                                   \n1              1                 0            0        0      0       1   \n3              1                 8            4        4      4      20   \n14             1                 1            1        0      1       9   \n16             0                41           18       18     23     117   \n17             1                 2            1        0      2      13   \n...          ...               ...          ...      ...    ...     ...   \n26779          0                 2            2        2      0      14   \n26781          0                 0            0        0      0       6   \n26783          1                 2            2        2      0      20   \n26789          1                 0            0        0      0       2   \n26790          1                 0            0        0      0       2   \n\n         correct_ratio  \nuser_id                 \n1             0.000000  \n3             0.500000  \n14            0.000000  \n16            0.439024  \n17            0.000000  \n...                ...  \n26779         1.000000  \n26781         0.000000  \n26783         1.000000  \n26789         0.000000  \n26790         0.000000  \n\n[9761 rows x 7 columns]",
      "text/html": "<div>\n<style scoped>\n    .dataframe tbody tr th:only-of-type {\n        vertical-align: middle;\n    }\n\n    .dataframe tbody tr th {\n        vertical-align: top;\n    }\n\n    .dataframe thead th {\n        text-align: right;\n    }\n</style>\n<table border=\"1\" class=\"dataframe\">\n  <thead>\n    <tr style=\"text-align: right;\">\n      <th></th>\n      <th>is_gone</th>\n      <th>days_of_training</th>\n      <th>tasks_tried</th>\n      <th>correct</th>\n      <th>wrong</th>\n      <th>viewed</th>\n      <th>correct_ratio</th>\n    </tr>\n    <tr>\n      <th>user_id</th>\n      <th></th>\n      <th></th>\n      <th></th>\n      <th></th>\n      <th></th>\n      <th></th>\n      <th></th>\n    </tr>\n  </thead>\n  <tbody>\n    <tr>\n      <th>1</th>\n      <td>1</td>\n      <td>0</td>\n      <td>0</td>\n      <td>0</td>\n      <td>0</td>\n      <td>1</td>\n      <td>0.000000</td>\n    </tr>\n    <tr>\n      <th>3</th>\n      <td>1</td>\n      <td>8</td>\n      <td>4</td>\n      <td>4</td>\n      <td>4</td>\n      <td>20</td>\n      <td>0.500000</td>\n    </tr>\n    <tr>\n      <th>14</th>\n      <td>1</td>\n      <td>1</td>\n      <td>1</td>\n      <td>0</td>\n      <td>1</td>\n      <td>9</td>\n      <td>0.000000</td>\n    </tr>\n    <tr>\n      <th>16</th>\n      <td>0</td>\n      <td>41</td>\n      <td>18</td>\n      <td>18</td>\n      <td>23</td>\n      <td>117</td>\n      <td>0.439024</td>\n    </tr>\n    <tr>\n      <th>17</th>\n      <td>1</td>\n      <td>2</td>\n      <td>1</td>\n      <td>0</td>\n      <td>2</td>\n      <td>13</td>\n      <td>0.000000</td>\n    </tr>\n    <tr>\n      <th>...</th>\n      <td>...</td>\n      <td>...</td>\n      <td>...</td>\n      <td>...</td>\n      <td>...</td>\n      <td>...</td>\n      <td>...</td>\n    </tr>\n    <tr>\n      <th>26779</th>\n      <td>0</td>\n      <td>2</td>\n      <td>2</td>\n      <td>2</td>\n      <td>0</td>\n      <td>14</td>\n      <td>1.000000</td>\n    </tr>\n    <tr>\n      <th>26781</th>\n      <td>0</td>\n      <td>0</td>\n      <td>0</td>\n      <td>0</td>\n      <td>0</td>\n      <td>6</td>\n      <td>0.000000</td>\n    </tr>\n    <tr>\n      <th>26783</th>\n      <td>1</td>\n      <td>2</td>\n      <td>2</td>\n      <td>2</td>\n      <td>0</td>\n      <td>20</td>\n      <td>1.000000</td>\n    </tr>\n    <tr>\n      <th>26789</th>\n      <td>1</td>\n      <td>0</td>\n      <td>0</td>\n      <td>0</td>\n      <td>0</td>\n      <td>2</td>\n      <td>0.000000</td>\n    </tr>\n    <tr>\n      <th>26790</th>\n      <td>1</td>\n      <td>0</td>\n      <td>0</td>\n      <td>0</td>\n      <td>0</td>\n      <td>2</td>\n      <td>0.000000</td>\n    </tr>\n  </tbody>\n</table>\n<p>9761 rows × 7 columns</p>\n</div>"
     },
     "execution_count": 316,
     "metadata": {},
     "output_type": "execute_result"
    }
   ],
   "source": [
    "# Рассчитаем процент правильных ответов:\n",
    "X['correct_ratio'] = X['correct'] / (X['correct'] + X['wrong'])\n",
    "\n",
    "# Заполним ячейки со значением \"Nan\" нулями:\n",
    "X = X.fillna(0)\n",
    "\n",
    "# Конвертируем значения в целые числа:\n",
    "for col in ['days_of_training', 'tasks_tried', 'correct', 'wrong']:\n",
    "    X[col] = X[col].map(int)\n",
    "\n",
    "# Сделаем индекс по ID пользователя:\n",
    "X = X.rename_axis('', axis=1).set_index('user_id')\n",
    "X"
   ],
   "metadata": {
    "collapsed": false,
    "pycharm": {
     "name": "#%%\n"
    }
   }
  },
  {
   "cell_type": "code",
   "execution_count": 317,
   "outputs": [
    {
     "data": {
      "text/plain": "         days_of_training  tasks_tried  correct  wrong  viewed  correct_ratio\nuser_id                                                                      \n1                       0            0        0      0       1       0.000000\n3                       8            4        4      4      20       0.500000\n14                      1            1        0      1       9       0.000000\n16                     41           18       18     23     117       0.439024\n17                      2            1        0      2      13       0.000000\n...                   ...          ...      ...    ...     ...            ...\n26779                   2            2        2      0      14       1.000000\n26781                   0            0        0      0       6       0.000000\n26783                   2            2        2      0      20       1.000000\n26789                   0            0        0      0       2       0.000000\n26790                   0            0        0      0       2       0.000000\n\n[9761 rows x 6 columns]",
      "text/html": "<div>\n<style scoped>\n    .dataframe tbody tr th:only-of-type {\n        vertical-align: middle;\n    }\n\n    .dataframe tbody tr th {\n        vertical-align: top;\n    }\n\n    .dataframe thead th {\n        text-align: right;\n    }\n</style>\n<table border=\"1\" class=\"dataframe\">\n  <thead>\n    <tr style=\"text-align: right;\">\n      <th></th>\n      <th>days_of_training</th>\n      <th>tasks_tried</th>\n      <th>correct</th>\n      <th>wrong</th>\n      <th>viewed</th>\n      <th>correct_ratio</th>\n    </tr>\n    <tr>\n      <th>user_id</th>\n      <th></th>\n      <th></th>\n      <th></th>\n      <th></th>\n      <th></th>\n      <th></th>\n    </tr>\n  </thead>\n  <tbody>\n    <tr>\n      <th>1</th>\n      <td>0</td>\n      <td>0</td>\n      <td>0</td>\n      <td>0</td>\n      <td>1</td>\n      <td>0.000000</td>\n    </tr>\n    <tr>\n      <th>3</th>\n      <td>8</td>\n      <td>4</td>\n      <td>4</td>\n      <td>4</td>\n      <td>20</td>\n      <td>0.500000</td>\n    </tr>\n    <tr>\n      <th>14</th>\n      <td>1</td>\n      <td>1</td>\n      <td>0</td>\n      <td>1</td>\n      <td>9</td>\n      <td>0.000000</td>\n    </tr>\n    <tr>\n      <th>16</th>\n      <td>41</td>\n      <td>18</td>\n      <td>18</td>\n      <td>23</td>\n      <td>117</td>\n      <td>0.439024</td>\n    </tr>\n    <tr>\n      <th>17</th>\n      <td>2</td>\n      <td>1</td>\n      <td>0</td>\n      <td>2</td>\n      <td>13</td>\n      <td>0.000000</td>\n    </tr>\n    <tr>\n      <th>...</th>\n      <td>...</td>\n      <td>...</td>\n      <td>...</td>\n      <td>...</td>\n      <td>...</td>\n      <td>...</td>\n    </tr>\n    <tr>\n      <th>26779</th>\n      <td>2</td>\n      <td>2</td>\n      <td>2</td>\n      <td>0</td>\n      <td>14</td>\n      <td>1.000000</td>\n    </tr>\n    <tr>\n      <th>26781</th>\n      <td>0</td>\n      <td>0</td>\n      <td>0</td>\n      <td>0</td>\n      <td>6</td>\n      <td>0.000000</td>\n    </tr>\n    <tr>\n      <th>26783</th>\n      <td>2</td>\n      <td>2</td>\n      <td>2</td>\n      <td>0</td>\n      <td>20</td>\n      <td>1.000000</td>\n    </tr>\n    <tr>\n      <th>26789</th>\n      <td>0</td>\n      <td>0</td>\n      <td>0</td>\n      <td>0</td>\n      <td>2</td>\n      <td>0.000000</td>\n    </tr>\n    <tr>\n      <th>26790</th>\n      <td>0</td>\n      <td>0</td>\n      <td>0</td>\n      <td>0</td>\n      <td>2</td>\n      <td>0.000000</td>\n    </tr>\n  </tbody>\n</table>\n<p>9761 rows × 6 columns</p>\n</div>"
     },
     "execution_count": 317,
     "metadata": {},
     "output_type": "execute_result"
    }
   ],
   "source": [
    "# Соберем y:\n",
    "y = X['is_gone']\n",
    "\n",
    "# Удалим колонку \"is_gone\" из X:\n",
    "X = X.drop(['is_gone'], axis=1)\n",
    "X"
   ],
   "metadata": {
    "collapsed": false,
    "pycharm": {
     "name": "#%%\n"
    }
   }
  },
  {
   "cell_type": "code",
   "execution_count": 318,
   "outputs": [
    {
     "data": {
      "text/plain": "user_id\n1        1\n3        1\n14       1\n16       0\n17       1\n        ..\n26779    0\n26781    0\n26783    1\n26789    1\n26790    1\nName: is_gone, Length: 9761, dtype: int64"
     },
     "execution_count": 318,
     "metadata": {},
     "output_type": "execute_result"
    }
   ],
   "source": [
    "y"
   ],
   "metadata": {
    "collapsed": false,
    "pycharm": {
     "name": "#%%\n"
    }
   }
  },
  {
   "cell_type": "code",
   "execution_count": 332,
   "outputs": [],
   "source": [
    "X.to_csv('X.csv')\n",
    "y.to_csv('y.csv')"
   ],
   "metadata": {
    "collapsed": false,
    "pycharm": {
     "name": "#%%\n"
    }
   }
  },
  {
   "cell_type": "markdown",
   "source": [
    "#Модели"
   ],
   "metadata": {
    "collapsed": false,
    "pycharm": {
     "name": "#%% md\n"
    }
   }
  },
  {
   "cell_type": "code",
   "execution_count": 318,
   "outputs": [],
   "source": [],
   "metadata": {
    "collapsed": false,
    "pycharm": {
     "name": "#%%\n"
    }
   }
  },
  {
   "cell_type": "code",
   "execution_count": 319,
   "outputs": [],
   "source": [
    "from sklearn import tree\n",
    "from sklearn.model_selection import train_test_split\n",
    "from sklearn.model_selection import cross_val_score\n",
    "from sklearn.model_selection import GridSearchCV\n",
    "from sklearn.linear_model import LogisticRegressionCV\n",
    "from sklearn.ensemble import RandomForestClassifier"
   ],
   "metadata": {
    "collapsed": false,
    "pycharm": {
     "name": "#%%\n"
    }
   }
  },
  {
   "cell_type": "code",
   "execution_count": 320,
   "outputs": [],
   "source": [
    "# Разделим данные на тренировочные и тестовые 4 к 1:\n",
    "X_train, X_test, y_train, y_test = train_test_split(X, y, train_size=0.66, random_state=0)"
   ],
   "metadata": {
    "collapsed": false,
    "pycharm": {
     "name": "#%%\n"
    }
   }
  },
  {
   "cell_type": "code",
   "execution_count": 321,
   "outputs": [],
   "source": [
    "# Найдем найлучшую глубину дерева решений:\n",
    "grid_search_cv_clf = GridSearchCV(\n",
    "    tree.DecisionTreeClassifier(criterion='entropy', min_samples_leaf=10, random_state=0),\n",
    "    {'max_depth': range(1, 5)},\n",
    "    cv=5\n",
    ")"
   ],
   "metadata": {
    "collapsed": false,
    "pycharm": {
     "name": "#%%\n"
    }
   }
  },
  {
   "cell_type": "code",
   "execution_count": 322,
   "outputs": [
    {
     "data": {
      "text/plain": "GridSearchCV(cv=5,\n             estimator=DecisionTreeClassifier(criterion='entropy',\n                                              min_samples_leaf=10,\n                                              random_state=0),\n             param_grid={'max_depth': range(1, 5)})",
      "text/html": "<style>#sk-container-id-9 {color: black;background-color: white;}#sk-container-id-9 pre{padding: 0;}#sk-container-id-9 div.sk-toggleable {background-color: white;}#sk-container-id-9 label.sk-toggleable__label {cursor: pointer;display: block;width: 100%;margin-bottom: 0;padding: 0.3em;box-sizing: border-box;text-align: center;}#sk-container-id-9 label.sk-toggleable__label-arrow:before {content: \"▸\";float: left;margin-right: 0.25em;color: #696969;}#sk-container-id-9 label.sk-toggleable__label-arrow:hover:before {color: black;}#sk-container-id-9 div.sk-estimator:hover label.sk-toggleable__label-arrow:before {color: black;}#sk-container-id-9 div.sk-toggleable__content {max-height: 0;max-width: 0;overflow: hidden;text-align: left;background-color: #f0f8ff;}#sk-container-id-9 div.sk-toggleable__content pre {margin: 0.2em;color: black;border-radius: 0.25em;background-color: #f0f8ff;}#sk-container-id-9 input.sk-toggleable__control:checked~div.sk-toggleable__content {max-height: 200px;max-width: 100%;overflow: auto;}#sk-container-id-9 input.sk-toggleable__control:checked~label.sk-toggleable__label-arrow:before {content: \"▾\";}#sk-container-id-9 div.sk-estimator input.sk-toggleable__control:checked~label.sk-toggleable__label {background-color: #d4ebff;}#sk-container-id-9 div.sk-label input.sk-toggleable__control:checked~label.sk-toggleable__label {background-color: #d4ebff;}#sk-container-id-9 input.sk-hidden--visually {border: 0;clip: rect(1px 1px 1px 1px);clip: rect(1px, 1px, 1px, 1px);height: 1px;margin: -1px;overflow: hidden;padding: 0;position: absolute;width: 1px;}#sk-container-id-9 div.sk-estimator {font-family: monospace;background-color: #f0f8ff;border: 1px dotted black;border-radius: 0.25em;box-sizing: border-box;margin-bottom: 0.5em;}#sk-container-id-9 div.sk-estimator:hover {background-color: #d4ebff;}#sk-container-id-9 div.sk-parallel-item::after {content: \"\";width: 100%;border-bottom: 1px solid gray;flex-grow: 1;}#sk-container-id-9 div.sk-label:hover label.sk-toggleable__label {background-color: #d4ebff;}#sk-container-id-9 div.sk-serial::before {content: \"\";position: absolute;border-left: 1px solid gray;box-sizing: border-box;top: 0;bottom: 0;left: 50%;z-index: 0;}#sk-container-id-9 div.sk-serial {display: flex;flex-direction: column;align-items: center;background-color: white;padding-right: 0.2em;padding-left: 0.2em;position: relative;}#sk-container-id-9 div.sk-item {position: relative;z-index: 1;}#sk-container-id-9 div.sk-parallel {display: flex;align-items: stretch;justify-content: center;background-color: white;position: relative;}#sk-container-id-9 div.sk-item::before, #sk-container-id-9 div.sk-parallel-item::before {content: \"\";position: absolute;border-left: 1px solid gray;box-sizing: border-box;top: 0;bottom: 0;left: 50%;z-index: -1;}#sk-container-id-9 div.sk-parallel-item {display: flex;flex-direction: column;z-index: 1;position: relative;background-color: white;}#sk-container-id-9 div.sk-parallel-item:first-child::after {align-self: flex-end;width: 50%;}#sk-container-id-9 div.sk-parallel-item:last-child::after {align-self: flex-start;width: 50%;}#sk-container-id-9 div.sk-parallel-item:only-child::after {width: 0;}#sk-container-id-9 div.sk-dashed-wrapped {border: 1px dashed gray;margin: 0 0.4em 0.5em 0.4em;box-sizing: border-box;padding-bottom: 0.4em;background-color: white;}#sk-container-id-9 div.sk-label label {font-family: monospace;font-weight: bold;display: inline-block;line-height: 1.2em;}#sk-container-id-9 div.sk-label-container {text-align: center;}#sk-container-id-9 div.sk-container {/* jupyter's `normalize.less` sets `[hidden] { display: none; }` but bootstrap.min.css set `[hidden] { display: none !important; }` so we also need the `!important` here to be able to override the default hidden behavior on the sphinx rendered scikit-learn.org. See: https://github.com/scikit-learn/scikit-learn/issues/21755 */display: inline-block !important;position: relative;}#sk-container-id-9 div.sk-text-repr-fallback {display: none;}</style><div id=\"sk-container-id-9\" class=\"sk-top-container\"><div class=\"sk-text-repr-fallback\"><pre>GridSearchCV(cv=5,\n             estimator=DecisionTreeClassifier(criterion=&#x27;entropy&#x27;,\n                                              min_samples_leaf=10,\n                                              random_state=0),\n             param_grid={&#x27;max_depth&#x27;: range(1, 5)})</pre><b>In a Jupyter environment, please rerun this cell to show the HTML representation or trust the notebook. <br />On GitHub, the HTML representation is unable to render, please try loading this page with nbviewer.org.</b></div><div class=\"sk-container\" hidden><div class=\"sk-item sk-dashed-wrapped\"><div class=\"sk-label-container\"><div class=\"sk-label sk-toggleable\"><input class=\"sk-toggleable__control sk-hidden--visually\" id=\"sk-estimator-id-17\" type=\"checkbox\" ><label for=\"sk-estimator-id-17\" class=\"sk-toggleable__label sk-toggleable__label-arrow\">GridSearchCV</label><div class=\"sk-toggleable__content\"><pre>GridSearchCV(cv=5,\n             estimator=DecisionTreeClassifier(criterion=&#x27;entropy&#x27;,\n                                              min_samples_leaf=10,\n                                              random_state=0),\n             param_grid={&#x27;max_depth&#x27;: range(1, 5)})</pre></div></div></div><div class=\"sk-parallel\"><div class=\"sk-parallel-item\"><div class=\"sk-item\"><div class=\"sk-label-container\"><div class=\"sk-label sk-toggleable\"><input class=\"sk-toggleable__control sk-hidden--visually\" id=\"sk-estimator-id-18\" type=\"checkbox\" ><label for=\"sk-estimator-id-18\" class=\"sk-toggleable__label sk-toggleable__label-arrow\">estimator: DecisionTreeClassifier</label><div class=\"sk-toggleable__content\"><pre>DecisionTreeClassifier(criterion=&#x27;entropy&#x27;, min_samples_leaf=10, random_state=0)</pre></div></div></div><div class=\"sk-serial\"><div class=\"sk-item\"><div class=\"sk-estimator sk-toggleable\"><input class=\"sk-toggleable__control sk-hidden--visually\" id=\"sk-estimator-id-19\" type=\"checkbox\" ><label for=\"sk-estimator-id-19\" class=\"sk-toggleable__label sk-toggleable__label-arrow\">DecisionTreeClassifier</label><div class=\"sk-toggleable__content\"><pre>DecisionTreeClassifier(criterion=&#x27;entropy&#x27;, min_samples_leaf=10, random_state=0)</pre></div></div></div></div></div></div></div></div></div></div>"
     },
     "execution_count": 322,
     "metadata": {},
     "output_type": "execute_result"
    }
   ],
   "source": [
    "# Обучим модель:\n",
    "grid_search_cv_clf.fit(X_train, y_train)"
   ],
   "metadata": {
    "collapsed": false,
    "pycharm": {
     "name": "#%%\n"
    }
   }
  },
  {
   "cell_type": "code",
   "execution_count": 323,
   "outputs": [
    {
     "data": {
      "text/plain": "DecisionTreeClassifier(criterion='entropy', max_depth=2, min_samples_leaf=10,\n                       random_state=0)",
      "text/html": "<style>#sk-container-id-10 {color: black;background-color: white;}#sk-container-id-10 pre{padding: 0;}#sk-container-id-10 div.sk-toggleable {background-color: white;}#sk-container-id-10 label.sk-toggleable__label {cursor: pointer;display: block;width: 100%;margin-bottom: 0;padding: 0.3em;box-sizing: border-box;text-align: center;}#sk-container-id-10 label.sk-toggleable__label-arrow:before {content: \"▸\";float: left;margin-right: 0.25em;color: #696969;}#sk-container-id-10 label.sk-toggleable__label-arrow:hover:before {color: black;}#sk-container-id-10 div.sk-estimator:hover label.sk-toggleable__label-arrow:before {color: black;}#sk-container-id-10 div.sk-toggleable__content {max-height: 0;max-width: 0;overflow: hidden;text-align: left;background-color: #f0f8ff;}#sk-container-id-10 div.sk-toggleable__content pre {margin: 0.2em;color: black;border-radius: 0.25em;background-color: #f0f8ff;}#sk-container-id-10 input.sk-toggleable__control:checked~div.sk-toggleable__content {max-height: 200px;max-width: 100%;overflow: auto;}#sk-container-id-10 input.sk-toggleable__control:checked~label.sk-toggleable__label-arrow:before {content: \"▾\";}#sk-container-id-10 div.sk-estimator input.sk-toggleable__control:checked~label.sk-toggleable__label {background-color: #d4ebff;}#sk-container-id-10 div.sk-label input.sk-toggleable__control:checked~label.sk-toggleable__label {background-color: #d4ebff;}#sk-container-id-10 input.sk-hidden--visually {border: 0;clip: rect(1px 1px 1px 1px);clip: rect(1px, 1px, 1px, 1px);height: 1px;margin: -1px;overflow: hidden;padding: 0;position: absolute;width: 1px;}#sk-container-id-10 div.sk-estimator {font-family: monospace;background-color: #f0f8ff;border: 1px dotted black;border-radius: 0.25em;box-sizing: border-box;margin-bottom: 0.5em;}#sk-container-id-10 div.sk-estimator:hover {background-color: #d4ebff;}#sk-container-id-10 div.sk-parallel-item::after {content: \"\";width: 100%;border-bottom: 1px solid gray;flex-grow: 1;}#sk-container-id-10 div.sk-label:hover label.sk-toggleable__label {background-color: #d4ebff;}#sk-container-id-10 div.sk-serial::before {content: \"\";position: absolute;border-left: 1px solid gray;box-sizing: border-box;top: 0;bottom: 0;left: 50%;z-index: 0;}#sk-container-id-10 div.sk-serial {display: flex;flex-direction: column;align-items: center;background-color: white;padding-right: 0.2em;padding-left: 0.2em;position: relative;}#sk-container-id-10 div.sk-item {position: relative;z-index: 1;}#sk-container-id-10 div.sk-parallel {display: flex;align-items: stretch;justify-content: center;background-color: white;position: relative;}#sk-container-id-10 div.sk-item::before, #sk-container-id-10 div.sk-parallel-item::before {content: \"\";position: absolute;border-left: 1px solid gray;box-sizing: border-box;top: 0;bottom: 0;left: 50%;z-index: -1;}#sk-container-id-10 div.sk-parallel-item {display: flex;flex-direction: column;z-index: 1;position: relative;background-color: white;}#sk-container-id-10 div.sk-parallel-item:first-child::after {align-self: flex-end;width: 50%;}#sk-container-id-10 div.sk-parallel-item:last-child::after {align-self: flex-start;width: 50%;}#sk-container-id-10 div.sk-parallel-item:only-child::after {width: 0;}#sk-container-id-10 div.sk-dashed-wrapped {border: 1px dashed gray;margin: 0 0.4em 0.5em 0.4em;box-sizing: border-box;padding-bottom: 0.4em;background-color: white;}#sk-container-id-10 div.sk-label label {font-family: monospace;font-weight: bold;display: inline-block;line-height: 1.2em;}#sk-container-id-10 div.sk-label-container {text-align: center;}#sk-container-id-10 div.sk-container {/* jupyter's `normalize.less` sets `[hidden] { display: none; }` but bootstrap.min.css set `[hidden] { display: none !important; }` so we also need the `!important` here to be able to override the default hidden behavior on the sphinx rendered scikit-learn.org. See: https://github.com/scikit-learn/scikit-learn/issues/21755 */display: inline-block !important;position: relative;}#sk-container-id-10 div.sk-text-repr-fallback {display: none;}</style><div id=\"sk-container-id-10\" class=\"sk-top-container\"><div class=\"sk-text-repr-fallback\"><pre>DecisionTreeClassifier(criterion=&#x27;entropy&#x27;, max_depth=2, min_samples_leaf=10,\n                       random_state=0)</pre><b>In a Jupyter environment, please rerun this cell to show the HTML representation or trust the notebook. <br />On GitHub, the HTML representation is unable to render, please try loading this page with nbviewer.org.</b></div><div class=\"sk-container\" hidden><div class=\"sk-item\"><div class=\"sk-estimator sk-toggleable\"><input class=\"sk-toggleable__control sk-hidden--visually\" id=\"sk-estimator-id-20\" type=\"checkbox\" checked><label for=\"sk-estimator-id-20\" class=\"sk-toggleable__label sk-toggleable__label-arrow\">DecisionTreeClassifier</label><div class=\"sk-toggleable__content\"><pre>DecisionTreeClassifier(criterion=&#x27;entropy&#x27;, max_depth=2, min_samples_leaf=10,\n                       random_state=0)</pre></div></div></div></div></div>"
     },
     "execution_count": 323,
     "metadata": {},
     "output_type": "execute_result"
    }
   ],
   "source": [
    "# Посмотрим лучшую модель:\n",
    "best_clf = grid_search_cv_clf.best_estimator_\n",
    "best_clf"
   ],
   "metadata": {
    "collapsed": false,
    "pycharm": {
     "name": "#%%\n"
    }
   }
  },
  {
   "cell_type": "code",
   "execution_count": 324,
   "outputs": [
    {
     "data": {
      "text/plain": "0.8782765893341368"
     },
     "execution_count": 324,
     "metadata": {},
     "output_type": "execute_result"
    }
   ],
   "source": [
    "# Посмотрим точность на тестовых данных:\n",
    "best_clf.score(X_test, y_test)"
   ],
   "metadata": {
    "collapsed": false,
    "pycharm": {
     "name": "#%%\n"
    }
   }
  },
  {
   "cell_type": "code",
   "execution_count": 325,
   "outputs": [],
   "source": [
    "from sklearn.metrics import roc_auc_score\n",
    "from sklearn.metrics import plot_roc_curve, roc_curve"
   ],
   "metadata": {
    "collapsed": false,
    "pycharm": {
     "name": "#%%\n"
    }
   }
  },
  {
   "cell_type": "code",
   "execution_count": 325,
   "outputs": [],
   "source": [],
   "metadata": {
    "collapsed": false,
    "pycharm": {
     "name": "#%%\n"
    }
   }
  },
  {
   "cell_type": "code",
   "execution_count": 1,
   "outputs": [
    {
     "ename": "NameError",
     "evalue": "name 'jopa' is not defined",
     "output_type": "error",
     "traceback": [
      "\u001B[1;31m---------------------------------------------------------------------------\u001B[0m",
      "\u001B[1;31mNameError\u001B[0m                                 Traceback (most recent call last)",
      "Input \u001B[1;32mIn [1]\u001B[0m, in \u001B[0;36m<cell line: 6>\u001B[1;34m()\u001B[0m\n\u001B[0;32m      1\u001B[0m \u001B[38;5;66;03m#fpr, tpr, _ = roc_curve(y_score=y_pred, y_true=y_test)\u001B[39;00m\n\u001B[0;32m      2\u001B[0m \u001B[38;5;66;03m#create ROC curve\u001B[39;00m\n\u001B[0;32m      3\u001B[0m \u001B[38;5;66;03m#plt.ylabel('True Positive Rate')\u001B[39;00m\n\u001B[0;32m      4\u001B[0m \u001B[38;5;66;03m#plt.xlabel('False Positive Rate')\u001B[39;00m\n\u001B[0;32m      5\u001B[0m \u001B[38;5;66;03m#plt.show()\u001B[39;00m\n\u001B[1;32m----> 6\u001B[0m \u001B[43mjopa\u001B[49m\n",
      "\u001B[1;31mNameError\u001B[0m: name 'jopa' is not defined"
     ]
    }
   ],
   "source": [
    "#fpr, tpr, _ = roc_curve(y_score=y_pred, y_true=y_test)\n",
    "#create ROC curve\n",
    "#plt.ylabel('True Positive Rate')\n",
    "#plt.xlabel('False Positive Rate')\n",
    "#plt.show()\n",
    "jopa"
   ],
   "metadata": {
    "collapsed": false,
    "pycharm": {
     "name": "#%%\n"
    }
   }
  },
  {
   "cell_type": "code",
   "execution_count": 327,
   "outputs": [],
   "source": [
    "from sklearn.ensemble import GradientBoostingClassifier"
   ],
   "metadata": {
    "collapsed": false,
    "pycharm": {
     "name": "#%%\n"
    }
   }
  },
  {
   "cell_type": "code",
   "execution_count": 328,
   "outputs": [],
   "source": [
    "params = {'n_estimators':200,\n",
    "          'max_depth':12,\n",
    "          'criterion':'squared_error',\n",
    "          'learning_rate':0.03,\n",
    "          'min_samples_leaf':16,\n",
    "          'min_samples_split':16\n",
    "          }"
   ],
   "metadata": {
    "collapsed": false,
    "pycharm": {
     "name": "#%%\n"
    }
   }
  },
  {
   "cell_type": "code",
   "execution_count": 329,
   "outputs": [
    {
     "data": {
      "text/plain": "0.8268838675622687"
     },
     "execution_count": 329,
     "metadata": {},
     "output_type": "execute_result"
    }
   ],
   "source": [
    "clf = GradientBoostingClassifier(**params)\n",
    "clf.fit(X_train, y_train)\n",
    "roc_auc_score(y_score=clf.predict_proba(X_test)[:, 1], y_true=y_test)"
   ],
   "metadata": {
    "collapsed": false,
    "pycharm": {
     "name": "#%%\n"
    }
   }
  },
  {
   "cell_type": "code",
   "execution_count": 330,
   "outputs": [
    {
     "name": "stdout",
     "output_type": "stream",
     "text": [
      "roc на test 0.8364790339795125\n"
     ]
    }
   ],
   "source": [
    "rf = RandomForestClassifier(n_estimators=100, n_jobs=2,\n",
    "                            min_samples_leaf=10, min_samples_split=10,\n",
    "                            class_weight='balanced')\n",
    "\n",
    "rf.fit(X_train, y_train)\n",
    "pred_proba = rf.predict_proba(X_test)\n",
    "roc_score = roc_auc_score(y_test, pred_proba[:, 1])\n",
    "print('roc на test', roc_score)"
   ],
   "metadata": {
    "collapsed": false,
    "pycharm": {
     "name": "#%%\n"
    }
   }
  },
  {
   "cell_type": "code",
   "execution_count": 331,
   "outputs": [
    {
     "data": {
      "text/plain": "0.8473735194143783"
     },
     "execution_count": 331,
     "metadata": {},
     "output_type": "execute_result"
    }
   ],
   "source": [
    "from sklearn.linear_model import LogisticRegression\n",
    "\n",
    "log_reg = LogisticRegression()\n",
    "log_reg.fit(X_train, y_train)\n",
    "roc_auc_score(y_true=y_test, y_score=log_reg.predict_proba(X_test)[:,1])\n",
    "\n"
   ],
   "metadata": {
    "collapsed": false,
    "pycharm": {
     "name": "#%%\n"
    }
   }
  },
  {
   "cell_type": "code",
   "execution_count": 334,
   "outputs": [
    {
     "data": {
      "text/plain": "user_id\n1        1\n3        1\n14       1\n16       0\n17       1\n        ..\n26779    0\n26781    0\n26783    1\n26789    1\n26790    1\nName: is_gone, Length: 9761, dtype: int64"
     },
     "execution_count": 334,
     "metadata": {},
     "output_type": "execute_result"
    }
   ],
   "source": [
    "y"
   ],
   "metadata": {
    "collapsed": false,
    "pycharm": {
     "name": "#%%\n"
    }
   }
  }
 ],
 "metadata": {
  "kernelspec": {
   "display_name": "Python 3",
   "language": "python",
   "name": "python3"
  },
  "language_info": {
   "codemirror_mode": {
    "name": "ipython",
    "version": 2
   },
   "file_extension": ".py",
   "mimetype": "text/x-python",
   "name": "python",
   "nbconvert_exporter": "python",
   "pygments_lexer": "ipython2",
   "version": "2.7.6"
  }
 },
 "nbformat": 4,
 "nbformat_minor": 0
}